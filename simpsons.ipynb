{
 "cells": [
  {
   "cell_type": "markdown",
   "metadata": {
    "papermill": {
     "duration": 0.027967,
     "end_time": "2020-12-02T14:40:07.415918",
     "exception": false,
     "start_time": "2020-12-02T14:40:07.387951",
     "status": "completed"
    },
    "tags": []
   },
   "source": []
  },
  {
   "cell_type": "code",
   "execution_count": 1,
   "metadata": {
    "_cell_guid": "b1076dfc-b9ad-4769-8c92-a6c4dae69d19",
    "_uuid": "8f2839f25d086af736a60e9eeb907d3b93b6e0e5",
    "execution": {
     "iopub.execute_input": "2020-12-02T14:40:07.478554Z",
     "iopub.status.busy": "2020-12-02T14:40:07.477813Z",
     "iopub.status.idle": "2020-12-02T14:40:11.128344Z",
     "shell.execute_reply": "2020-12-02T14:40:11.127527Z"
    },
    "papermill": {
     "duration": 3.683581,
     "end_time": "2020-12-02T14:40:11.128570",
     "exception": false,
     "start_time": "2020-12-02T14:40:07.444989",
     "status": "completed"
    },
    "tags": []
   },
   "outputs": [],
   "source": [
    "# This Python 3 environment comes with many helpful analytics libraries installed\n",
    "# It is defined by the kaggle/python Docker image: https://github.com/kaggle/docker-python\n",
    "# For example, here's several helpful packages to load\n",
    "\n",
    "# Input data files are available in the read-only \"../input/\" directory\n",
    "# For example, running this (by clicking run or pressing Shift+Enter) will list all files under the input directory\n",
    "\n",
    "import os\n",
    "for dirname, _, filenames in os.walk('/kaggle/input'):\n",
    "    for filename in filenames:\n",
    "        print(os.path.join(dirname, filename))\n",
    "\n",
    "# You can write up to 20GB to the current directory (/kaggle/working/) that gets preserved as output when you create a version using \"Save & Run All\" \n",
    "# You can also write temporary files to /kaggle/temp/, but they won't be saved outside of the current session"
   ]
  },
  {
   "cell_type": "markdown",
   "metadata": {
    "papermill": {
     "duration": 0.077302,
     "end_time": "2020-12-02T14:40:11.316222",
     "exception": false,
     "start_time": "2020-12-02T14:40:11.238920",
     "status": "completed"
    },
    "tags": []
   },
   "source": [
    "# Подготовка"
   ]
  },
  {
   "cell_type": "markdown",
   "metadata": {
    "papermill": {
     "duration": 0.07771,
     "end_time": "2020-12-02T14:40:11.468699",
     "exception": false,
     "start_time": "2020-12-02T14:40:11.390989",
     "status": "completed"
    },
    "tags": []
   },
   "source": [
    "Проверяем доступность графического ускорителя. "
   ]
  },
  {
   "cell_type": "code",
   "execution_count": 2,
   "metadata": {
    "_cell_guid": "79c7e3d0-c299-4dcb-8224-4455121ee9b0",
    "_uuid": "d629ff2d2480ee46fbb7e2d37f6b5fab8052498a",
    "execution": {
     "iopub.execute_input": "2020-12-02T14:40:11.627887Z",
     "iopub.status.busy": "2020-12-02T14:40:11.627097Z",
     "iopub.status.idle": "2020-12-02T14:40:13.265164Z",
     "shell.execute_reply": "2020-12-02T14:40:13.264647Z"
    },
    "papermill": {
     "duration": 1.718124,
     "end_time": "2020-12-02T14:40:13.265271",
     "exception": false,
     "start_time": "2020-12-02T14:40:11.547147",
     "status": "completed"
    },
    "tags": []
   },
   "outputs": [
    {
     "name": "stdout",
     "output_type": "stream",
     "text": [
      "CUDA is available!  Training on GPU ...\n"
     ]
    }
   ],
   "source": [
    "import torch\n",
    "import numpy as np\n",
    "import pandas as pd\n",
    "\n",
    "train_on_gpu = torch.cuda.is_available()\n",
    "\n",
    "if not train_on_gpu:\n",
    "    print('CUDA is not available.  Training on CPU ...')\n",
    "else:\n",
    "    print('CUDA is available!  Training on GPU ...')"
   ]
  },
  {
   "cell_type": "markdown",
   "metadata": {
    "papermill": {
     "duration": 0.07491,
     "end_time": "2020-12-02T14:40:13.415892",
     "exception": false,
     "start_time": "2020-12-02T14:40:13.340982",
     "status": "completed"
    },
    "tags": []
   },
   "source": [
    "Выводим информацию о драйвере. Импортируем необходимые библиотеки."
   ]
  },
  {
   "cell_type": "code",
   "execution_count": 3,
   "metadata": {
    "execution": {
     "iopub.execute_input": "2020-12-02T14:40:13.581972Z",
     "iopub.status.busy": "2020-12-02T14:40:13.581155Z",
     "iopub.status.idle": "2020-12-02T14:40:14.405347Z",
     "shell.execute_reply": "2020-12-02T14:40:14.404691Z"
    },
    "papermill": {
     "duration": 0.910729,
     "end_time": "2020-12-02T14:40:14.405455",
     "exception": false,
     "start_time": "2020-12-02T14:40:13.494726",
     "status": "completed"
    },
    "tags": []
   },
   "outputs": [
    {
     "name": "stdout",
     "output_type": "stream",
     "text": [
      "Fri Jan 08 23:13:13 2021       \n",
      "+-----------------------------------------------------------------------------+\n",
      "| NVIDIA-SMI 445.87       Driver Version: 445.87       CUDA Version: 11.0     |\n",
      "|-------------------------------+----------------------+----------------------+\n",
      "| GPU  Name            TCC/WDDM | Bus-Id        Disp.A | Volatile Uncorr. ECC |\n",
      "| Fan  Temp  Perf  Pwr:Usage/Cap|         Memory-Usage | GPU-Util  Compute M. |\n",
      "|===============================+======================+======================|\n",
      "|   0  GeForce RTX 207... WDDM  | 00000000:08:00.0  On |                  N/A |\n",
      "|  0%   53C    P0    53W / 215W |   2320MiB /  8192MiB |      1%      Default |\n",
      "+-------------------------------+----------------------+----------------------+\n",
      "                                                                               \n",
      "+-----------------------------------------------------------------------------+\n",
      "| Processes:                                                                  |\n",
      "|  GPU                  PID   Type   Process name                  GPU Memory |\n",
      "|                                                                  Usage      |\n",
      "|=============================================================================|\n",
      "|    0                  704    C+G   Insufficient Permissions        N/A      |\n",
      "|    0                 3140    C+G   ...lication\\WebCompanion.exe    N/A      |\n",
      "|    0                 3628    C+G   Insufficient Permissions        N/A      |\n",
      "|    0                 5924    C+G   ...d\\app-0.0.309\\Discord.exe    N/A      |\n",
      "|    0                 6540    C+G   C:\\Windows\\explorer.exe         N/A      |\n",
      "|    0                 7796    C+G   ...ekyb3d8bbwe\\YourPhone.exe    N/A      |\n",
      "|    0                 7988    C+G   ...w5n1h2txyewy\\SearchUI.exe    N/A      |\n",
      "|    0                 9124    C+G   ...bbwe\\Microsoft.Photos.exe    N/A      |\n",
      "|    0                 9512    C+G   ...es.TextInput.InputApp.exe    N/A      |\n",
      "|    0                11352    C+G   ...y\\ShellExperienceHost.exe    N/A      |\n",
      "|    0                12652    C+G   ...ge\\Application\\msedge.exe    N/A      |\n",
      "|    0                12820    C+G   ...wekyb3d8bbwe\\Video.UI.exe    N/A      |\n",
      "|    0                15372    C+G   ...r\\Application\\browser.exe    N/A      |\n",
      "+-----------------------------------------------------------------------------+\n"
     ]
    }
   ],
   "source": [
    "!nvidia-smi"
   ]
  },
  {
   "cell_type": "code",
   "execution_count": 4,
   "metadata": {
    "execution": {
     "iopub.execute_input": "2020-12-02T14:40:14.573522Z",
     "iopub.status.busy": "2020-12-02T14:40:14.572802Z",
     "iopub.status.idle": "2020-12-02T14:40:15.583001Z",
     "shell.execute_reply": "2020-12-02T14:40:15.581791Z"
    },
    "papermill": {
     "duration": 1.098339,
     "end_time": "2020-12-02T14:40:15.583128",
     "exception": false,
     "start_time": "2020-12-02T14:40:14.484789",
     "status": "completed"
    },
    "tags": []
   },
   "outputs": [],
   "source": [
    "import pickle\n",
    "import numpy as np\n",
    "from skimage import io\n",
    "\n",
    "from tqdm import tqdm, tqdm_notebook\n",
    "from PIL import Image\n",
    "from pathlib import Path\n",
    "\n",
    "from torchvision import transforms\n",
    "from multiprocessing.pool import ThreadPool\n",
    "from sklearn.preprocessing import LabelEncoder\n",
    "from sklearn.metrics import f1_score\n",
    "from torch.utils.data import Dataset, DataLoader\n",
    "import torch.nn as nn\n",
    "\n",
    "from matplotlib import colors, pyplot as plt\n",
    "%matplotlib inline\n",
    "\n",
    "# в sklearn не все гладко, чтобы в colab удобно выводить картинки \n",
    "# мы будем игнорировать warnings\n",
    "import warnings\n",
    "warnings.filterwarnings(action='ignore', category=DeprecationWarning)\n"
   ]
  },
  {
   "cell_type": "code",
   "execution_count": 5,
   "metadata": {
    "execution": {
     "iopub.execute_input": "2020-12-02T14:40:15.751734Z",
     "iopub.status.busy": "2020-12-02T14:40:15.750897Z",
     "iopub.status.idle": "2020-12-02T14:40:15.754505Z",
     "shell.execute_reply": "2020-12-02T14:40:15.755029Z"
    },
    "papermill": {
     "duration": 0.091974,
     "end_time": "2020-12-02T14:40:15.755167",
     "exception": false,
     "start_time": "2020-12-02T14:40:15.663193",
     "status": "completed"
    },
    "tags": []
   },
   "outputs": [
    {
     "data": {
      "text/plain": [
       "'GeForce RTX 2070 SUPER'"
      ]
     },
     "execution_count": 5,
     "metadata": {},
     "output_type": "execute_result"
    }
   ],
   "source": [
    "# разные режимы датасета \n",
    "DATA_MODES = ['train', 'val', 'test']\n",
    "# все изображения будут масштабированы к размеру 224x224 px\n",
    "RESCALE_SIZE = 224\n",
    "# работаем на видеокарте\n",
    "DEVICE = torch.device('cuda:0' if torch.cuda.is_available() else 'cpu')\n",
    "\n",
    "torch.cuda.get_device_name()"
   ]
  },
  {
   "cell_type": "code",
   "execution_count": 6,
   "metadata": {},
   "outputs": [],
   "source": [
    "#DEVICE = torch.device('cpu')\n"
   ]
  },
  {
   "cell_type": "markdown",
   "metadata": {
    "papermill": {
     "duration": 0.075313,
     "end_time": "2020-12-02T14:40:15.906220",
     "exception": false,
     "start_time": "2020-12-02T14:40:15.830907",
     "status": "completed"
    },
    "tags": []
   },
   "source": [
    "Описываем класс SimpsonsDataset"
   ]
  },
  {
   "cell_type": "code",
   "execution_count": 7,
   "metadata": {
    "execution": {
     "iopub.execute_input": "2020-12-02T14:40:16.079085Z",
     "iopub.status.busy": "2020-12-02T14:40:16.078210Z",
     "iopub.status.idle": "2020-12-02T14:40:16.081159Z",
     "shell.execute_reply": "2020-12-02T14:40:16.080688Z"
    },
    "papermill": {
     "duration": 0.098421,
     "end_time": "2020-12-02T14:40:16.081260",
     "exception": false,
     "start_time": "2020-12-02T14:40:15.982839",
     "status": "completed"
    },
    "tags": []
   },
   "outputs": [],
   "source": [
    "class SimpsonsDataset(Dataset):\n",
    "    \"\"\"\n",
    "    Датасет с картинками, который паралельно подгружает их из папок\n",
    "    производит скалирование и превращение в торчевые тензоры\n",
    "    \"\"\"\n",
    "    def __init__(self, files, mode):\n",
    "        super().__init__()\n",
    "        # список файлов для загрузки\n",
    "        self.files = sorted(files)\n",
    "        # режим работы\n",
    "        self.mode = mode\n",
    "\n",
    "        if self.mode not in DATA_MODES:\n",
    "            print(f\"{self.mode} is not correct; correct modes: {DATA_MODES}\")\n",
    "            raise NameError\n",
    "\n",
    "        self.len_ = len(self.files)\n",
    "     \n",
    "        self.label_encoder = LabelEncoder()\n",
    "\n",
    "        if self.mode != 'test':\n",
    "            self.labels = [path.parent.name for path in self.files]\n",
    "            self.label_encoder.fit(self.labels)\n",
    "\n",
    "            with open('label_encoder.pkl', 'wb') as le_dump_file:\n",
    "                  pickle.dump(self.label_encoder, le_dump_file)\n",
    "                      \n",
    "    def __len__(self):\n",
    "        return self.len_\n",
    "      \n",
    "    def load_sample(self, file):\n",
    "        image = Image.open(file)\n",
    "        image.load()\n",
    "        return image\n",
    "  \n",
    "    def __getitem__(self, index):\n",
    "        # для преобразования изображений в тензоры PyTorch и нормализации входа\n",
    "        transform = transforms.Compose([\n",
    "            transforms.ToTensor(),\n",
    "            transforms.Normalize([0.485, 0.456, 0.406], [0.229, 0.224, 0.225]) \n",
    "        ])\n",
    "        x = self.load_sample(self.files[index])\n",
    "        x = self._prepare_sample(x)\n",
    "        x = np.array(x / 255, dtype='float32')\n",
    "        x = transform(x)\n",
    "        if self.mode == 'test':\n",
    "            return x\n",
    "        else:\n",
    "            label = self.labels[index]\n",
    "            label_id = self.label_encoder.transform([label])\n",
    "            y = label_id.item()\n",
    "            return x, y\n",
    "        \n",
    "    def _prepare_sample(self, image):\n",
    "        image = image.resize((RESCALE_SIZE, RESCALE_SIZE))\n",
    "        return np.array(image)"
   ]
  },
  {
   "cell_type": "code",
   "execution_count": 8,
   "metadata": {
    "execution": {
     "iopub.execute_input": "2020-12-02T14:40:16.245399Z",
     "iopub.status.busy": "2020-12-02T14:40:16.244388Z",
     "iopub.status.idle": "2020-12-02T14:40:16.252405Z",
     "shell.execute_reply": "2020-12-02T14:40:16.252983Z"
    },
    "papermill": {
     "duration": 0.093995,
     "end_time": "2020-12-02T14:40:16.253139",
     "exception": false,
     "start_time": "2020-12-02T14:40:16.159144",
     "status": "completed"
    },
    "tags": []
   },
   "outputs": [],
   "source": [
    "def imshow(inp, title=None, plt_ax=plt, default=False):\n",
    "    \"\"\"Imshow для тензоров\"\"\"\n",
    "    inp = inp.numpy().transpose((1, 2, 0))\n",
    "    mean = np.array([0.485, 0.456, 0.406])\n",
    "    std = np.array([0.229, 0.224, 0.225])\n",
    "    inp = std * inp + mean\n",
    "    inp = np.clip(inp, 0, 1)\n",
    "    plt_ax.imshow(inp)\n",
    "    if title is not None:\n",
    "        plt_ax.set_title(title)\n",
    "    plt_ax.grid(False)"
   ]
  },
  {
   "cell_type": "code",
   "execution_count": 9,
   "metadata": {
    "execution": {
     "iopub.execute_input": "2020-12-02T14:40:16.426248Z",
     "iopub.status.busy": "2020-12-02T14:40:16.425125Z",
     "iopub.status.idle": "2020-12-02T14:40:16.938794Z",
     "shell.execute_reply": "2020-12-02T14:40:16.938004Z"
    },
    "papermill": {
     "duration": 0.596773,
     "end_time": "2020-12-02T14:40:16.938918",
     "exception": false,
     "start_time": "2020-12-02T14:40:16.342145",
     "status": "completed"
    },
    "tags": []
   },
   "outputs": [],
   "source": [
    "TRAIN_DIR = Path('E:\\\\datasets\\\\train\\\\simpsons_dataset')\n",
    "#../input/journey-springfield/train/simpsons_dataset')\n",
    "TEST_DIR = Path('E:\\\\datasets\\\\testset\\\\testset\\\\') \n",
    "#../input/journey-springfield/testset/testset')\n",
    "\n",
    "\n",
    "train_val_files = sorted(list(TRAIN_DIR.rglob('*.jpg')))\n",
    "test_files = sorted(list(TEST_DIR.rglob('*.jpg')))"
   ]
  },
  {
   "cell_type": "markdown",
   "metadata": {
    "papermill": {
     "duration": 0.075778,
     "end_time": "2020-12-02T14:40:17.092501",
     "exception": false,
     "start_time": "2020-12-02T14:40:17.016723",
     "status": "completed"
    },
    "tags": []
   },
   "source": [
    "Разделяем данные на валидационные и тренеровочные"
   ]
  },
  {
   "cell_type": "code",
   "execution_count": 10,
   "metadata": {
    "execution": {
     "iopub.execute_input": "2020-12-02T14:40:17.260558Z",
     "iopub.status.busy": "2020-12-02T14:40:17.259836Z",
     "iopub.status.idle": "2020-12-02T14:40:17.370239Z",
     "shell.execute_reply": "2020-12-02T14:40:17.369715Z"
    },
    "papermill": {
     "duration": 0.195041,
     "end_time": "2020-12-02T14:40:17.370386",
     "exception": false,
     "start_time": "2020-12-02T14:40:17.175345",
     "status": "completed"
    },
    "tags": []
   },
   "outputs": [],
   "source": [
    "from sklearn.model_selection import train_test_split\n",
    "\n",
    "train_val_labels = [path.parent.name for path in train_val_files]\n",
    "train_files, val_files = train_test_split(train_val_files, test_size=0.25, \\\n",
    "                                          stratify=train_val_labels)"
   ]
  },
  {
   "cell_type": "code",
   "execution_count": 11,
   "metadata": {
    "execution": {
     "iopub.execute_input": "2020-12-02T14:40:17.579902Z",
     "iopub.status.busy": "2020-12-02T14:40:17.569700Z",
     "iopub.status.idle": "2020-12-02T14:40:17.611441Z",
     "shell.execute_reply": "2020-12-02T14:40:17.609959Z"
    },
    "papermill": {
     "duration": 0.159261,
     "end_time": "2020-12-02T14:40:17.611555",
     "exception": false,
     "start_time": "2020-12-02T14:40:17.452294",
     "status": "completed"
    },
    "tags": []
   },
   "outputs": [],
   "source": [
    "val_dataset = SimpsonsDataset(val_files, mode='val')"
   ]
  },
  {
   "cell_type": "code",
   "execution_count": 12,
   "metadata": {
    "execution": {
     "iopub.execute_input": "2020-12-02T14:40:17.777478Z",
     "iopub.status.busy": "2020-12-02T14:40:17.776702Z",
     "iopub.status.idle": "2020-12-02T14:40:19.564422Z",
     "shell.execute_reply": "2020-12-02T14:40:19.564899Z"
    },
    "papermill": {
     "duration": 1.87448,
     "end_time": "2020-12-02T14:40:19.565042",
     "exception": false,
     "start_time": "2020-12-02T14:40:17.690562",
     "status": "completed"
    },
    "tags": []
   },
   "outputs": [
    {
     "data": {
      "image/png": "[encoded data removed]",
      "text/plain": [
       "<Figure size 576x576 with 9 Axes>"
      ]
     },
     "metadata": {
      "needs_background": "light"
     },
     "output_type": "display_data"
    }
   ],
   "source": [
    "fig, ax = plt.subplots(nrows=3, ncols=3,figsize=(8, 8), \\\n",
    "                        sharey=True, sharex=True)\n",
    "for fig_x in ax.flatten():\n",
    "    random_characters = int(np.random.uniform(0,1000))\n",
    "    im_val, label = val_dataset[random_characters]\n",
    "    img_label = \" \".join(map(lambda x: x.capitalize(),\\\n",
    "                val_dataset.label_encoder.inverse_transform([label])[0].split('_')))\n",
    "    imshow(im_val.data.cpu(), \\\n",
    "          title=img_label,plt_ax=fig_x)"
   ]
  },
  {
   "cell_type": "markdown",
   "metadata": {
    "papermill": {
     "duration": 0.084587,
     "end_time": "2020-12-02T14:40:19.734267",
     "exception": false,
     "start_time": "2020-12-02T14:40:19.649680",
     "status": "completed"
    },
    "tags": []
   },
   "source": [
    "## Постороение сети"
   ]
  },
  {
   "cell_type": "markdown",
   "metadata": {
    "papermill": {
     "duration": 0.080323,
     "end_time": "2020-12-02T14:40:19.896130",
     "exception": false,
     "start_time": "2020-12-02T14:40:19.815807",
     "status": "completed"
    },
    "tags": []
   },
   "source": [
    "Определем некоторые функции, необходимые для обучения сети"
   ]
  },
  {
   "cell_type": "code",
   "execution_count": 13,
   "metadata": {
    "execution": {
     "iopub.execute_input": "2020-12-02T14:40:20.070669Z",
     "iopub.status.busy": "2020-12-02T14:40:20.069720Z",
     "iopub.status.idle": "2020-12-02T14:40:20.072568Z",
     "shell.execute_reply": "2020-12-02T14:40:20.072076Z"
    },
    "papermill": {
     "duration": 0.095515,
     "end_time": "2020-12-02T14:40:20.072670",
     "exception": false,
     "start_time": "2020-12-02T14:40:19.977155",
     "status": "completed"
    },
    "tags": []
   },
   "outputs": [],
   "source": [
    "def fit_epoch(model, train_loader, criterion, optimizer):\n",
    "    running_loss = 0.0\n",
    "    running_corrects = 0\n",
    "    processed_data = 0\n",
    "    model = model.to(DEVICE)\n",
    "    \n",
    "    for inputs, labels in train_loader:\n",
    "        inputs = inputs.to(DEVICE)\n",
    "        labels = labels.to(DEVICE)\n",
    "        optimizer.zero_grad()\n",
    "        \n",
    "        outputs = model(inputs)\n",
    "        loss = criterion(outputs, labels)\n",
    "        loss.backward()\n",
    "        optimizer.step()\n",
    "        preds = torch.argmax(outputs, 1)\n",
    "        running_loss += loss.item() * inputs.size(0)\n",
    "        running_corrects += torch.sum(preds == labels.data)\n",
    "        processed_data += inputs.size(0)\n",
    "        \n",
    "    train_loss = running_loss / processed_data\n",
    "    train_acc = running_corrects.cpu().numpy() / processed_data\n",
    "    return train_loss, train_acc\n",
    "    "
   ]
  },
  {
   "cell_type": "code",
   "execution_count": 14,
   "metadata": {
    "execution": {
     "iopub.execute_input": "2020-12-02T14:40:20.249152Z",
     "iopub.status.busy": "2020-12-02T14:40:20.248348Z",
     "iopub.status.idle": "2020-12-02T14:40:20.251324Z",
     "shell.execute_reply": "2020-12-02T14:40:20.250839Z"
    },
    "papermill": {
     "duration": 0.095759,
     "end_time": "2020-12-02T14:40:20.251428",
     "exception": false,
     "start_time": "2020-12-02T14:40:20.155669",
     "status": "completed"
    },
    "tags": []
   },
   "outputs": [],
   "source": [
    "def eval_epoch(model, val_loader, criterion):\n",
    "    model = model.to(DEVICE)\n",
    "    model.eval()\n",
    "    running_loss = 0.0\n",
    "    running_corrects = 0\n",
    "    processed_size = 0\n",
    "\n",
    "    for inputs, labels in val_loader:\n",
    "        inputs = inputs.to(DEVICE)\n",
    "        labels = labels.to(DEVICE)\n",
    "\n",
    "        with torch.set_grad_enabled(False):\n",
    "            outputs = model(inputs)\n",
    "            loss = criterion(outputs, labels)\n",
    "            preds = torch.argmax(outputs, 1)\n",
    "\n",
    "        running_loss += loss.item() * inputs.size(0)\n",
    "        running_corrects += torch.sum(preds == labels.data)\n",
    "        processed_size += inputs.size(0)\n",
    "    val_loss = running_loss / processed_size\n",
    "    val_acc = running_corrects.double() / processed_size\n",
    "    return val_loss, val_acc"
   ]
  },
  {
   "cell_type": "code",
   "execution_count": 18,
   "metadata": {
    "execution": {
     "iopub.execute_input": "2020-12-02T14:40:20.427830Z",
     "iopub.status.busy": "2020-12-02T14:40:20.426854Z",
     "iopub.status.idle": "2020-12-02T14:40:20.430243Z",
     "shell.execute_reply": "2020-12-02T14:40:20.429692Z"
    },
    "papermill": {
     "duration": 0.096973,
     "end_time": "2020-12-02T14:40:20.430376",
     "exception": false,
     "start_time": "2020-12-02T14:40:20.333403",
     "status": "completed"
    },
    "tags": []
   },
   "outputs": [],
   "source": [
    "def train(train_files, val_files, model, epochs, batch_size, pre_train=None):\n",
    "    train_loader = DataLoader(train_dataset, batch_size=batch_size, shuffle=True)\n",
    "    val_loader = DataLoader(val_dataset, batch_size=batch_size, shuffle=False)\n",
    "\n",
    "    history = []\n",
    "    log_template = \"\\nEpoch {ep:03d} train_loss: {t_loss:0.4f} \\\n",
    "    val_loss {v_loss:0.4f} train_acc {t_acc:0.4f} val_acc {v_acc:0.4f}\"\n",
    "        \n",
    "\n",
    "    with tqdm(desc=\"epoch\", total=epochs) as pbar_outer:\n",
    "        opt = torch.optim.AdamW(model.parameters(), lr=0.0001)\n",
    "        scheduler = torch.optim.lr_scheduler.StepLR(opt,  step_size=0.00002)\n",
    "        criterion = nn.CrossEntropyLoss()\n",
    "\n",
    "        for epoch in range(epochs):\n",
    "            train_loss, train_acc = fit_epoch(model, train_loader, criterion, opt)\n",
    "            print(\"loss\", train_loss)\n",
    "            \n",
    "            val_loss, val_acc = eval_epoch(model, val_loader, criterion)\n",
    "            history.append((train_loss, train_acc, val_loss, val_acc))\n",
    "            \n",
    "            pbar_outer.update(1)\n",
    "            tqdm.write(log_template.format(ep=epoch+1, t_loss=train_loss,\\\n",
    "                                           v_loss=val_loss, t_acc=train_acc, v_acc=val_acc))\n",
    "            \n",
    "    return history"
   ]
  },
  {
   "cell_type": "markdown",
   "metadata": {
    "papermill": {
     "duration": 0.081386,
     "end_time": "2020-12-02T14:40:20.594371",
     "exception": false,
     "start_time": "2020-12-02T14:40:20.512985",
     "status": "completed"
    },
    "tags": []
   },
   "source": [
    "Определим функцию, для получения предсказания модели."
   ]
  },
  {
   "cell_type": "code",
   "execution_count": 19,
   "metadata": {
    "execution": {
     "iopub.execute_input": "2020-12-02T14:40:20.769213Z",
     "iopub.status.busy": "2020-12-02T14:40:20.768404Z",
     "iopub.status.idle": "2020-12-02T14:40:20.771329Z",
     "shell.execute_reply": "2020-12-02T14:40:20.770837Z"
    },
    "papermill": {
     "duration": 0.093158,
     "end_time": "2020-12-02T14:40:20.771431",
     "exception": false,
     "start_time": "2020-12-02T14:40:20.678273",
     "status": "completed"
    },
    "tags": []
   },
   "outputs": [],
   "source": [
    "def predict(model, test_loader):\n",
    "    with torch.no_grad():\n",
    "        logits = []\n",
    "    \n",
    "        for inputs in test_loader:\n",
    "            inputs = inputs.to(DEVICE)\n",
    "            model.eval()\n",
    "            outputs = model(inputs).cpu()\n",
    "            logits.append(outputs)\n",
    "            \n",
    "    probs = nn.functional.softmax(torch.cat(logits), dim=-1).numpy()\n",
    "    return probs"
   ]
  },
  {
   "cell_type": "code",
   "execution_count": 20,
   "metadata": {
    "execution": {
     "iopub.execute_input": "2020-12-02T14:40:20.943917Z",
     "iopub.status.busy": "2020-12-02T14:40:20.943022Z",
     "iopub.status.idle": "2020-12-02T14:40:20.951826Z",
     "shell.execute_reply": "2020-12-02T14:40:20.951345Z"
    },
    "papermill": {
     "duration": 0.098978,
     "end_time": "2020-12-02T14:40:20.951929",
     "exception": false,
     "start_time": "2020-12-02T14:40:20.852951",
     "status": "completed"
    },
    "tags": []
   },
   "outputs": [],
   "source": [
    "n_classes = len(np.unique(train_val_labels))"
   ]
  },
  {
   "cell_type": "code",
   "execution_count": 21,
   "metadata": {},
   "outputs": [
    {
     "data": {
      "text/plain": [
       "42"
      ]
     },
     "execution_count": 21,
     "metadata": {},
     "output_type": "execute_result"
    }
   ],
   "source": [
    "n_classes"
   ]
  },
  {
   "cell_type": "code",
   "execution_count": 22,
   "metadata": {
    "execution": {
     "iopub.execute_input": "2020-12-02T14:40:21.155093Z",
     "iopub.status.busy": "2020-12-02T14:40:21.139715Z",
     "iopub.status.idle": "2020-12-02T14:40:21.377107Z",
     "shell.execute_reply": "2020-12-02T14:40:21.376494Z"
    },
    "papermill": {
     "duration": 0.342748,
     "end_time": "2020-12-02T14:40:21.377220",
     "exception": false,
     "start_time": "2020-12-02T14:40:21.034472",
     "status": "completed"
    },
    "tags": []
   },
   "outputs": [],
   "source": [
    "if val_dataset is None:\n",
    "    val_dataset = SimpsonsDataset(val_files, mode='val')\n",
    "    \n",
    "train_dataset = SimpsonsDataset(train_files, mode='train')"
   ]
  },
  {
   "cell_type": "markdown",
   "metadata": {
    "papermill": {
     "duration": 0.369156,
     "end_time": "2020-12-02T14:40:21.842112",
     "exception": false,
     "start_time": "2020-12-02T14:40:21.472956",
     "status": "completed"
    },
    "tags": []
   },
   "source": [
    "Импортируем предобученную модель vgg16 с batchnorm"
   ]
  },
  {
   "cell_type": "code",
   "execution_count": 23,
   "metadata": {
    "execution": {
     "iopub.execute_input": "2020-12-02T14:40:22.020461Z",
     "iopub.status.busy": "2020-12-02T14:40:22.017501Z",
     "iopub.status.idle": "2020-12-02T14:40:47.248377Z",
     "shell.execute_reply": "2020-12-02T14:40:47.247520Z"
    },
    "papermill": {
     "duration": 25.321801,
     "end_time": "2020-12-02T14:40:47.248553",
     "exception": false,
     "start_time": "2020-12-02T14:40:21.926752",
     "status": "completed"
    },
    "tags": []
   },
   "outputs": [],
   "source": [
    "import torchvision.models\n",
    "\n",
    "vgg = torchvision.models.vgg16_bn(pretrained=True)\n",
    "rnxt = torchvision.models.resnext101_32x8d(pretrained=True)"
   ]
  },
  {
   "cell_type": "code",
   "execution_count": null,
   "metadata": {},
   "outputs": [],
   "source": []
  },
  {
   "cell_type": "code",
   "execution_count": 24,
   "metadata": {},
   "outputs": [],
   "source": [
    "rnxt50 = torchvision.models.resnext50_32x4d(pretrained=True)"
   ]
  },
  {
   "cell_type": "code",
   "execution_count": 25,
   "metadata": {},
   "outputs": [
    {
     "data": {
      "text/plain": [
       "ResNet(\n",
       "  (conv1): Conv2d(3, 64, kernel_size=(7, 7), stride=(2, 2), padding=(3, 3), bias=False)\n",
       "  (bn1): BatchNorm2d(64, eps=1e-05, momentum=0.1, affine=True, track_running_stats=True)\n",
       "  (relu): ReLU(inplace=True)\n",
       "  (maxpool): MaxPool2d(kernel_size=3, stride=2, padding=1, dilation=1, ceil_mode=False)\n",
       "  (layer1): Sequential(\n",
       "    (0): Bottleneck(\n",
       "      (conv1): Conv2d(64, 128, kernel_size=(1, 1), stride=(1, 1), bias=False)\n",
       "      (bn1): BatchNorm2d(128, eps=1e-05, momentum=0.1, affine=True, track_running_stats=True)\n",
       "      (conv2): Conv2d(128, 128, kernel_size=(3, 3), stride=(1, 1), padding=(1, 1), groups=32, bias=False)\n",
       "      (bn2): BatchNorm2d(128, eps=1e-05, momentum=0.1, affine=True, track_running_stats=True)\n",
       "      (conv3): Conv2d(128, 256, kernel_size=(1, 1), stride=(1, 1), bias=False)\n",
       "      (bn3): BatchNorm2d(256, eps=1e-05, momentum=0.1, affine=True, track_running_stats=True)\n",
       "      (relu): ReLU(inplace=True)\n",
       "      (downsample): Sequential(\n",
       "        (0): Conv2d(64, 256, kernel_size=(1, 1), stride=(1, 1), bias=False)\n",
       "        (1): BatchNorm2d(256, eps=1e-05, momentum=0.1, affine=True, track_running_stats=True)\n",
       "      )\n",
       "    )\n",
       "    (1): Bottleneck(\n",
       "      (conv1): Conv2d(256, 128, kernel_size=(1, 1), stride=(1, 1), bias=False)\n",
       "      (bn1): BatchNorm2d(128, eps=1e-05, momentum=0.1, affine=True, track_running_stats=True)\n",
       "      (conv2): Conv2d(128, 128, kernel_size=(3, 3), stride=(1, 1), padding=(1, 1), groups=32, bias=False)\n",
       "      (bn2): BatchNorm2d(128, eps=1e-05, momentum=0.1, affine=True, track_running_stats=True)\n",
       "      (conv3): Conv2d(128, 256, kernel_size=(1, 1), stride=(1, 1), bias=False)\n",
       "      (bn3): BatchNorm2d(256, eps=1e-05, momentum=0.1, affine=True, track_running_stats=True)\n",
       "      (relu): ReLU(inplace=True)\n",
       "    )\n",
       "    (2): Bottleneck(\n",
       "      (conv1): Conv2d(256, 128, kernel_size=(1, 1), stride=(1, 1), bias=False)\n",
       "      (bn1): BatchNorm2d(128, eps=1e-05, momentum=0.1, affine=True, track_running_stats=True)\n",
       "      (conv2): Conv2d(128, 128, kernel_size=(3, 3), stride=(1, 1), padding=(1, 1), groups=32, bias=False)\n",
       "      (bn2): BatchNorm2d(128, eps=1e-05, momentum=0.1, affine=True, track_running_stats=True)\n",
       "      (conv3): Conv2d(128, 256, kernel_size=(1, 1), stride=(1, 1), bias=False)\n",
       "      (bn3): BatchNorm2d(256, eps=1e-05, momentum=0.1, affine=True, track_running_stats=True)\n",
       "      (relu): ReLU(inplace=True)\n",
       "    )\n",
       "  )\n",
       "  (layer2): Sequential(\n",
       "    (0): Bottleneck(\n",
       "      (conv1): Conv2d(256, 256, kernel_size=(1, 1), stride=(1, 1), bias=False)\n",
       "      (bn1): BatchNorm2d(256, eps=1e-05, momentum=0.1, affine=True, track_running_stats=True)\n",
       "      (conv2): Conv2d(256, 256, kernel_size=(3, 3), stride=(2, 2), padding=(1, 1), groups=32, bias=False)\n",
       "      (bn2): BatchNorm2d(256, eps=1e-05, momentum=0.1, affine=True, track_running_stats=True)\n",
       "      (conv3): Conv2d(256, 512, kernel_size=(1, 1), stride=(1, 1), bias=False)\n",
       "      (bn3): BatchNorm2d(512, eps=1e-05, momentum=0.1, affine=True, track_running_stats=True)\n",
       "      (relu): ReLU(inplace=True)\n",
       "      (downsample): Sequential(\n",
       "        (0): Conv2d(256, 512, kernel_size=(1, 1), stride=(2, 2), bias=False)\n",
       "        (1): BatchNorm2d(512, eps=1e-05, momentum=0.1, affine=True, track_running_stats=True)\n",
       "      )\n",
       "    )\n",
       "    (1): Bottleneck(\n",
       "      (conv1): Conv2d(512, 256, kernel_size=(1, 1), stride=(1, 1), bias=False)\n",
       "      (bn1): BatchNorm2d(256, eps=1e-05, momentum=0.1, affine=True, track_running_stats=True)\n",
       "      (conv2): Conv2d(256, 256, kernel_size=(3, 3), stride=(1, 1), padding=(1, 1), groups=32, bias=False)\n",
       "      (bn2): BatchNorm2d(256, eps=1e-05, momentum=0.1, affine=True, track_running_stats=True)\n",
       "      (conv3): Conv2d(256, 512, kernel_size=(1, 1), stride=(1, 1), bias=False)\n",
       "      (bn3): BatchNorm2d(512, eps=1e-05, momentum=0.1, affine=True, track_running_stats=True)\n",
       "      (relu): ReLU(inplace=True)\n",
       "    )\n",
       "    (2): Bottleneck(\n",
       "      (conv1): Conv2d(512, 256, kernel_size=(1, 1), stride=(1, 1), bias=False)\n",
       "      (bn1): BatchNorm2d(256, eps=1e-05, momentum=0.1, affine=True, track_running_stats=True)\n",
       "      (conv2): Conv2d(256, 256, kernel_size=(3, 3), stride=(1, 1), padding=(1, 1), groups=32, bias=False)\n",
       "      (bn2): BatchNorm2d(256, eps=1e-05, momentum=0.1, affine=True, track_running_stats=True)\n",
       "      (conv3): Conv2d(256, 512, kernel_size=(1, 1), stride=(1, 1), bias=False)\n",
       "      (bn3): BatchNorm2d(512, eps=1e-05, momentum=0.1, affine=True, track_running_stats=True)\n",
       "      (relu): ReLU(inplace=True)\n",
       "    )\n",
       "    (3): Bottleneck(\n",
       "      (conv1): Conv2d(512, 256, kernel_size=(1, 1), stride=(1, 1), bias=False)\n",
       "      (bn1): BatchNorm2d(256, eps=1e-05, momentum=0.1, affine=True, track_running_stats=True)\n",
       "      (conv2): Conv2d(256, 256, kernel_size=(3, 3), stride=(1, 1), padding=(1, 1), groups=32, bias=False)\n",
       "      (bn2): BatchNorm2d(256, eps=1e-05, momentum=0.1, affine=True, track_running_stats=True)\n",
       "      (conv3): Conv2d(256, 512, kernel_size=(1, 1), stride=(1, 1), bias=False)\n",
       "      (bn3): BatchNorm2d(512, eps=1e-05, momentum=0.1, affine=True, track_running_stats=True)\n",
       "      (relu): ReLU(inplace=True)\n",
       "    )\n",
       "  )\n",
       "  (layer3): Sequential(\n",
       "    (0): Bottleneck(\n",
       "      (conv1): Conv2d(512, 512, kernel_size=(1, 1), stride=(1, 1), bias=False)\n",
       "      (bn1): BatchNorm2d(512, eps=1e-05, momentum=0.1, affine=True, track_running_stats=True)\n",
       "      (conv2): Conv2d(512, 512, kernel_size=(3, 3), stride=(2, 2), padding=(1, 1), groups=32, bias=False)\n",
       "      (bn2): BatchNorm2d(512, eps=1e-05, momentum=0.1, affine=True, track_running_stats=True)\n",
       "      (conv3): Conv2d(512, 1024, kernel_size=(1, 1), stride=(1, 1), bias=False)\n",
       "      (bn3): BatchNorm2d(1024, eps=1e-05, momentum=0.1, affine=True, track_running_stats=True)\n",
       "      (relu): ReLU(inplace=True)\n",
       "      (downsample): Sequential(\n",
       "        (0): Conv2d(512, 1024, kernel_size=(1, 1), stride=(2, 2), bias=False)\n",
       "        (1): BatchNorm2d(1024, eps=1e-05, momentum=0.1, affine=True, track_running_stats=True)\n",
       "      )\n",
       "    )\n",
       "    (1): Bottleneck(\n",
       "      (conv1): Conv2d(1024, 512, kernel_size=(1, 1), stride=(1, 1), bias=False)\n",
       "      (bn1): BatchNorm2d(512, eps=1e-05, momentum=0.1, affine=True, track_running_stats=True)\n",
       "      (conv2): Conv2d(512, 512, kernel_size=(3, 3), stride=(1, 1), padding=(1, 1), groups=32, bias=False)\n",
       "      (bn2): BatchNorm2d(512, eps=1e-05, momentum=0.1, affine=True, track_running_stats=True)\n",
       "      (conv3): Conv2d(512, 1024, kernel_size=(1, 1), stride=(1, 1), bias=False)\n",
       "      (bn3): BatchNorm2d(1024, eps=1e-05, momentum=0.1, affine=True, track_running_stats=True)\n",
       "      (relu): ReLU(inplace=True)\n",
       "    )\n",
       "    (2): Bottleneck(\n",
       "      (conv1): Conv2d(1024, 512, kernel_size=(1, 1), stride=(1, 1), bias=False)\n",
       "      (bn1): BatchNorm2d(512, eps=1e-05, momentum=0.1, affine=True, track_running_stats=True)\n",
       "      (conv2): Conv2d(512, 512, kernel_size=(3, 3), stride=(1, 1), padding=(1, 1), groups=32, bias=False)\n",
       "      (bn2): BatchNorm2d(512, eps=1e-05, momentum=0.1, affine=True, track_running_stats=True)\n",
       "      (conv3): Conv2d(512, 1024, kernel_size=(1, 1), stride=(1, 1), bias=False)\n",
       "      (bn3): BatchNorm2d(1024, eps=1e-05, momentum=0.1, affine=True, track_running_stats=True)\n",
       "      (relu): ReLU(inplace=True)\n",
       "    )\n",
       "    (3): Bottleneck(\n",
       "      (conv1): Conv2d(1024, 512, kernel_size=(1, 1), stride=(1, 1), bias=False)\n",
       "      (bn1): BatchNorm2d(512, eps=1e-05, momentum=0.1, affine=True, track_running_stats=True)\n",
       "      (conv2): Conv2d(512, 512, kernel_size=(3, 3), stride=(1, 1), padding=(1, 1), groups=32, bias=False)\n",
       "      (bn2): BatchNorm2d(512, eps=1e-05, momentum=0.1, affine=True, track_running_stats=True)\n",
       "      (conv3): Conv2d(512, 1024, kernel_size=(1, 1), stride=(1, 1), bias=False)\n",
       "      (bn3): BatchNorm2d(1024, eps=1e-05, momentum=0.1, affine=True, track_running_stats=True)\n",
       "      (relu): ReLU(inplace=True)\n",
       "    )\n",
       "    (4): Bottleneck(\n",
       "      (conv1): Conv2d(1024, 512, kernel_size=(1, 1), stride=(1, 1), bias=False)\n",
       "      (bn1): BatchNorm2d(512, eps=1e-05, momentum=0.1, affine=True, track_running_stats=True)\n",
       "      (conv2): Conv2d(512, 512, kernel_size=(3, 3), stride=(1, 1), padding=(1, 1), groups=32, bias=False)\n",
       "      (bn2): BatchNorm2d(512, eps=1e-05, momentum=0.1, affine=True, track_running_stats=True)\n",
       "      (conv3): Conv2d(512, 1024, kernel_size=(1, 1), stride=(1, 1), bias=False)\n",
       "      (bn3): BatchNorm2d(1024, eps=1e-05, momentum=0.1, affine=True, track_running_stats=True)\n",
       "      (relu): ReLU(inplace=True)\n",
       "    )\n",
       "    (5): Bottleneck(\n",
       "      (conv1): Conv2d(1024, 512, kernel_size=(1, 1), stride=(1, 1), bias=False)\n",
       "      (bn1): BatchNorm2d(512, eps=1e-05, momentum=0.1, affine=True, track_running_stats=True)\n",
       "      (conv2): Conv2d(512, 512, kernel_size=(3, 3), stride=(1, 1), padding=(1, 1), groups=32, bias=False)\n",
       "      (bn2): BatchNorm2d(512, eps=1e-05, momentum=0.1, affine=True, track_running_stats=True)\n",
       "      (conv3): Conv2d(512, 1024, kernel_size=(1, 1), stride=(1, 1), bias=False)\n",
       "      (bn3): BatchNorm2d(1024, eps=1e-05, momentum=0.1, affine=True, track_running_stats=True)\n",
       "      (relu): ReLU(inplace=True)\n",
       "    )\n",
       "  )\n",
       "  (layer4): Sequential(\n",
       "    (0): Bottleneck(\n",
       "      (conv1): Conv2d(1024, 1024, kernel_size=(1, 1), stride=(1, 1), bias=False)\n",
       "      (bn1): BatchNorm2d(1024, eps=1e-05, momentum=0.1, affine=True, track_running_stats=True)\n",
       "      (conv2): Conv2d(1024, 1024, kernel_size=(3, 3), stride=(2, 2), padding=(1, 1), groups=32, bias=False)\n",
       "      (bn2): BatchNorm2d(1024, eps=1e-05, momentum=0.1, affine=True, track_running_stats=True)\n",
       "      (conv3): Conv2d(1024, 2048, kernel_size=(1, 1), stride=(1, 1), bias=False)\n",
       "      (bn3): BatchNorm2d(2048, eps=1e-05, momentum=0.1, affine=True, track_running_stats=True)\n",
       "      (relu): ReLU(inplace=True)\n",
       "      (downsample): Sequential(\n",
       "        (0): Conv2d(1024, 2048, kernel_size=(1, 1), stride=(2, 2), bias=False)\n",
       "        (1): BatchNorm2d(2048, eps=1e-05, momentum=0.1, affine=True, track_running_stats=True)\n",
       "      )\n",
       "    )\n",
       "    (1): Bottleneck(\n",
       "      (conv1): Conv2d(2048, 1024, kernel_size=(1, 1), stride=(1, 1), bias=False)\n",
       "      (bn1): BatchNorm2d(1024, eps=1e-05, momentum=0.1, affine=True, track_running_stats=True)\n",
       "      (conv2): Conv2d(1024, 1024, kernel_size=(3, 3), stride=(1, 1), padding=(1, 1), groups=32, bias=False)\n",
       "      (bn2): BatchNorm2d(1024, eps=1e-05, momentum=0.1, affine=True, track_running_stats=True)\n",
       "      (conv3): Conv2d(1024, 2048, kernel_size=(1, 1), stride=(1, 1), bias=False)\n",
       "      (bn3): BatchNorm2d(2048, eps=1e-05, momentum=0.1, affine=True, track_running_stats=True)\n",
       "      (relu): ReLU(inplace=True)\n",
       "    )\n",
       "    (2): Bottleneck(\n",
       "      (conv1): Conv2d(2048, 1024, kernel_size=(1, 1), stride=(1, 1), bias=False)\n",
       "      (bn1): BatchNorm2d(1024, eps=1e-05, momentum=0.1, affine=True, track_running_stats=True)\n",
       "      (conv2): Conv2d(1024, 1024, kernel_size=(3, 3), stride=(1, 1), padding=(1, 1), groups=32, bias=False)\n",
       "      (bn2): BatchNorm2d(1024, eps=1e-05, momentum=0.1, affine=True, track_running_stats=True)\n",
       "      (conv3): Conv2d(1024, 2048, kernel_size=(1, 1), stride=(1, 1), bias=False)\n",
       "      (bn3): BatchNorm2d(2048, eps=1e-05, momentum=0.1, affine=True, track_running_stats=True)\n",
       "      (relu): ReLU(inplace=True)\n",
       "    )\n",
       "  )\n",
       "  (avgpool): AdaptiveAvgPool2d(output_size=(1, 1))\n",
       "  (fc): Linear(in_features=2048, out_features=1000, bias=True)\n",
       ")"
      ]
     },
     "execution_count": 25,
     "metadata": {},
     "output_type": "execute_result"
    }
   ],
   "source": [
    "rnxt50 "
   ]
  },
  {
   "cell_type": "code",
   "execution_count": 26,
   "metadata": {},
   "outputs": [],
   "source": [
    "for param in rnxt50.parameters():\n",
    "    param.requires_grad = False\n",
    "for param in rnxt50.fc.parameters():\n",
    "    param.requires_grad = True\n",
    "rnxt50.fc = nn.Linear(2048, n_classes)"
   ]
  },
  {
   "cell_type": "code",
   "execution_count": 27,
   "metadata": {
    "execution": {
     "iopub.execute_input": "2020-12-02T14:40:47.676989Z",
     "iopub.status.busy": "2020-12-02T14:40:47.676177Z",
     "iopub.status.idle": "2020-12-02T14:40:47.681578Z",
     "shell.execute_reply": "2020-12-02T14:40:47.682246Z"
    },
    "papermill": {
     "duration": 0.286382,
     "end_time": "2020-12-02T14:40:47.682450",
     "exception": false,
     "start_time": "2020-12-02T14:40:47.396068",
     "status": "completed"
    },
    "tags": []
   },
   "outputs": [
    {
     "data": {
      "text/plain": [
       "VGG(\n",
       "  (features): Sequential(\n",
       "    (0): Conv2d(3, 64, kernel_size=(3, 3), stride=(1, 1), padding=(1, 1))\n",
       "    (1): BatchNorm2d(64, eps=1e-05, momentum=0.1, affine=True, track_running_stats=True)\n",
       "    (2): ReLU(inplace=True)\n",
       "    (3): Conv2d(64, 64, kernel_size=(3, 3), stride=(1, 1), padding=(1, 1))\n",
       "    (4): BatchNorm2d(64, eps=1e-05, momentum=0.1, affine=True, track_running_stats=True)\n",
       "    (5): ReLU(inplace=True)\n",
       "    (6): MaxPool2d(kernel_size=2, stride=2, padding=0, dilation=1, ceil_mode=False)\n",
       "    (7): Conv2d(64, 128, kernel_size=(3, 3), stride=(1, 1), padding=(1, 1))\n",
       "    (8): BatchNorm2d(128, eps=1e-05, momentum=0.1, affine=True, track_running_stats=True)\n",
       "    (9): ReLU(inplace=True)\n",
       "    (10): Conv2d(128, 128, kernel_size=(3, 3), stride=(1, 1), padding=(1, 1))\n",
       "    (11): BatchNorm2d(128, eps=1e-05, momentum=0.1, affine=True, track_running_stats=True)\n",
       "    (12): ReLU(inplace=True)\n",
       "    (13): MaxPool2d(kernel_size=2, stride=2, padding=0, dilation=1, ceil_mode=False)\n",
       "    (14): Conv2d(128, 256, kernel_size=(3, 3), stride=(1, 1), padding=(1, 1))\n",
       "    (15): BatchNorm2d(256, eps=1e-05, momentum=0.1, affine=True, track_running_stats=True)\n",
       "    (16): ReLU(inplace=True)\n",
       "    (17): Conv2d(256, 256, kernel_size=(3, 3), stride=(1, 1), padding=(1, 1))\n",
       "    (18): BatchNorm2d(256, eps=1e-05, momentum=0.1, affine=True, track_running_stats=True)\n",
       "    (19): ReLU(inplace=True)\n",
       "    (20): Conv2d(256, 256, kernel_size=(3, 3), stride=(1, 1), padding=(1, 1))\n",
       "    (21): BatchNorm2d(256, eps=1e-05, momentum=0.1, affine=True, track_running_stats=True)\n",
       "    (22): ReLU(inplace=True)\n",
       "    (23): MaxPool2d(kernel_size=2, stride=2, padding=0, dilation=1, ceil_mode=False)\n",
       "    (24): Conv2d(256, 512, kernel_size=(3, 3), stride=(1, 1), padding=(1, 1))\n",
       "    (25): BatchNorm2d(512, eps=1e-05, momentum=0.1, affine=True, track_running_stats=True)\n",
       "    (26): ReLU(inplace=True)\n",
       "    (27): Conv2d(512, 512, kernel_size=(3, 3), stride=(1, 1), padding=(1, 1))\n",
       "    (28): BatchNorm2d(512, eps=1e-05, momentum=0.1, affine=True, track_running_stats=True)\n",
       "    (29): ReLU(inplace=True)\n",
       "    (30): Conv2d(512, 512, kernel_size=(3, 3), stride=(1, 1), padding=(1, 1))\n",
       "    (31): BatchNorm2d(512, eps=1e-05, momentum=0.1, affine=True, track_running_stats=True)\n",
       "    (32): ReLU(inplace=True)\n",
       "    (33): MaxPool2d(kernel_size=2, stride=2, padding=0, dilation=1, ceil_mode=False)\n",
       "    (34): Conv2d(512, 512, kernel_size=(3, 3), stride=(1, 1), padding=(1, 1))\n",
       "    (35): BatchNorm2d(512, eps=1e-05, momentum=0.1, affine=True, track_running_stats=True)\n",
       "    (36): ReLU(inplace=True)\n",
       "    (37): Conv2d(512, 512, kernel_size=(3, 3), stride=(1, 1), padding=(1, 1))\n",
       "    (38): BatchNorm2d(512, eps=1e-05, momentum=0.1, affine=True, track_running_stats=True)\n",
       "    (39): ReLU(inplace=True)\n",
       "    (40): Conv2d(512, 512, kernel_size=(3, 3), stride=(1, 1), padding=(1, 1))\n",
       "    (41): BatchNorm2d(512, eps=1e-05, momentum=0.1, affine=True, track_running_stats=True)\n",
       "    (42): ReLU(inplace=True)\n",
       "    (43): MaxPool2d(kernel_size=2, stride=2, padding=0, dilation=1, ceil_mode=False)\n",
       "  )\n",
       "  (avgpool): AdaptiveAvgPool2d(output_size=(7, 7))\n",
       "  (classifier): Sequential(\n",
       "    (0): Linear(in_features=25088, out_features=4096, bias=True)\n",
       "    (1): ReLU(inplace=True)\n",
       "    (2): Dropout(p=0.5, inplace=False)\n",
       "    (3): Linear(in_features=4096, out_features=4096, bias=True)\n",
       "    (4): ReLU(inplace=True)\n",
       "    (5): Dropout(p=0.5, inplace=False)\n",
       "    (6): Linear(in_features=4096, out_features=1000, bias=True)\n",
       "  )\n",
       ")"
      ]
     },
     "execution_count": 27,
     "metadata": {},
     "output_type": "execute_result"
    }
   ],
   "source": [
    "vgg"
   ]
  },
  {
   "cell_type": "markdown",
   "metadata": {
    "papermill": {
     "duration": 0.100207,
     "end_time": "2020-12-02T14:40:47.916194",
     "exception": false,
     "start_time": "2020-12-02T14:40:47.815987",
     "status": "completed"
    },
    "tags": []
   },
   "source": [
    "Замораживаем все параметры."
   ]
  },
  {
   "cell_type": "code",
   "execution_count": 28,
   "metadata": {
    "execution": {
     "iopub.execute_input": "2020-12-02T14:40:48.092505Z",
     "iopub.status.busy": "2020-12-02T14:40:48.091588Z",
     "iopub.status.idle": "2020-12-02T14:40:48.094433Z",
     "shell.execute_reply": "2020-12-02T14:40:48.093869Z"
    },
    "papermill": {
     "duration": 0.093314,
     "end_time": "2020-12-02T14:40:48.094535",
     "exception": false,
     "start_time": "2020-12-02T14:40:48.001221",
     "status": "completed"
    },
    "tags": []
   },
   "outputs": [],
   "source": [
    "for param in vgg.parameters():\n",
    "    param.requires_grad = True"
   ]
  },
  {
   "cell_type": "markdown",
   "metadata": {
    "papermill": {
     "duration": 0.085241,
     "end_time": "2020-12-02T14:40:48.264577",
     "exception": false,
     "start_time": "2020-12-02T14:40:48.179336",
     "status": "completed"
    },
    "tags": []
   },
   "source": [
    "Размораживаем слои классификатора"
   ]
  },
  {
   "cell_type": "code",
   "execution_count": 29,
   "metadata": {
    "execution": {
     "iopub.execute_input": "2020-12-02T14:40:48.444030Z",
     "iopub.status.busy": "2020-12-02T14:40:48.443128Z",
     "iopub.status.idle": "2020-12-02T14:40:48.445769Z",
     "shell.execute_reply": "2020-12-02T14:40:48.446250Z"
    },
    "papermill": {
     "duration": 0.096576,
     "end_time": "2020-12-02T14:40:48.446390",
     "exception": false,
     "start_time": "2020-12-02T14:40:48.349814",
     "status": "completed"
    },
    "tags": []
   },
   "outputs": [],
   "source": [
    "for param in vgg.classifier.parameters():\n",
    "    param.requires_grad = True"
   ]
  },
  {
   "cell_type": "markdown",
   "metadata": {
    "papermill": {
     "duration": 0.083652,
     "end_time": "2020-12-02T14:40:48.614106",
     "exception": false,
     "start_time": "2020-12-02T14:40:48.530454",
     "status": "completed"
    },
    "tags": []
   },
   "source": [
    "Изменяем последний слой с учетом количества классов в нашей задаче."
   ]
  },
  {
   "cell_type": "code",
   "execution_count": 30,
   "metadata": {
    "execution": {
     "iopub.execute_input": "2020-12-02T14:40:48.793173Z",
     "iopub.status.busy": "2020-12-02T14:40:48.792234Z",
     "iopub.status.idle": "2020-12-02T14:40:48.883778Z",
     "shell.execute_reply": "2020-12-02T14:40:48.884229Z"
    },
    "papermill": {
     "duration": 0.186081,
     "end_time": "2020-12-02T14:40:48.884379",
     "exception": false,
     "start_time": "2020-12-02T14:40:48.698298",
     "status": "completed"
    },
    "tags": []
   },
   "outputs": [],
   "source": [
    "vgg.fc = nn.Linear(4096, n_classes)"
   ]
  },
  {
   "cell_type": "code",
   "execution_count": 31,
   "metadata": {},
   "outputs": [],
   "source": [
    "for param in rnxt.parameters():\n",
    "    param.requires_grad = True\n",
    "for param in rnxt.fc.parameters():\n",
    "    param.requires_grad = True\n",
    "rnxt.fc = nn.Linear(2048, n_classes)\n",
    "\n",
    "for param in rnxt50.parameters():\n",
    "    param.requires_grad = True\n",
    "for param in rnxt50.fc.parameters():\n",
    "    param.requires_grad = True\n",
    "rnxt50.fc = nn.Linear(2048, n_classes)"
   ]
  },
  {
   "cell_type": "code",
   "execution_count": 32,
   "metadata": {},
   "outputs": [
    {
     "name": "stderr",
     "output_type": "stream",
     "text": [
      "\r",
      "epoch:   0%|                                                                                     | 0/5 [00:00<?, ?it/s]"
     ]
    },
    {
     "name": "stdout",
     "output_type": "stream",
     "text": [
      "loss 0.5247197192710663\n"
     ]
    },
    {
     "name": "stderr",
     "output_type": "stream",
     "text": [
      "epoch:  20%|███████████████▏                                                            | 1/5 [05:15<21:02, 315.66s/it]"
     ]
    },
    {
     "name": "stdout",
     "output_type": "stream",
     "text": [
      "\n",
      "Epoch 001 train_loss: 0.5247     val_loss 0.1486 train_acc 0.8857 val_acc 0.9650\n",
      "loss 0.2369687171140119\n"
     ]
    },
    {
     "name": "stderr",
     "output_type": "stream",
     "text": [
      "epoch:  40%|██████████████████████████████▍                                             | 2/5 [10:07<15:25, 308.46s/it]"
     ]
    },
    {
     "name": "stdout",
     "output_type": "stream",
     "text": [
      "\n",
      "Epoch 002 train_loss: 0.2370     val_loss 0.2570 train_acc 0.9425 val_acc 0.9429\n",
      "loss 0.10143646855798671\n"
     ]
    },
    {
     "name": "stderr",
     "output_type": "stream",
     "text": [
      "epoch:  60%|█████████████████████████████████████████████▌                              | 3/5 [15:30<10:25, 312.77s/it]"
     ]
    },
    {
     "name": "stdout",
     "output_type": "stream",
     "text": [
      "\n",
      "Epoch 003 train_loss: 0.1014     val_loss 0.1718 train_acc 0.9763 val_acc 0.9620\n",
      "loss 0.0711634027970438\n"
     ]
    },
    {
     "name": "stderr",
     "output_type": "stream",
     "text": [
      "epoch:  80%|████████████████████████████████████████████████████████████▊               | 4/5 [22:31<05:45, 345.45s/it]"
     ]
    },
    {
     "name": "stdout",
     "output_type": "stream",
     "text": [
      "\n",
      "Epoch 004 train_loss: 0.0712     val_loss 0.1676 train_acc 0.9817 val_acc 0.9626\n",
      "loss 0.07378493626028335\n"
     ]
    },
    {
     "name": "stderr",
     "output_type": "stream",
     "text": [
      "epoch: 100%|████████████████████████████████████████████████████████████████████████████| 5/5 [29:30<00:00, 354.14s/it]\n"
     ]
    },
    {
     "name": "stdout",
     "output_type": "stream",
     "text": [
      "\n",
      "Epoch 005 train_loss: 0.0738     val_loss 0.1466 train_acc 0.9811 val_acc 0.9675\n"
     ]
    },
    {
     "data": {
      "text/html": [
       "<div>\n",
       "<style scoped>\n",
       "    .dataframe tbody tr th:only-of-type {\n",
       "        vertical-align: middle;\n",
       "    }\n",
       "\n",
       "    .dataframe tbody tr th {\n",
       "        vertical-align: top;\n",
       "    }\n",
       "\n",
       "    .dataframe thead th {\n",
       "        text-align: right;\n",
       "    }\n",
       "</style>\n",
       "<table border=\"1\" class=\"dataframe\">\n",
       "  <thead>\n",
       "    <tr style=\"text-align: right;\">\n",
       "      <th></th>\n",
       "      <th>Id</th>\n",
       "      <th>Expected</th>\n",
       "    </tr>\n",
       "  </thead>\n",
       "  <tbody>\n",
       "    <tr>\n",
       "      <th>0</th>\n",
       "      <td>img0.jpg</td>\n",
       "      <td>nelson_muntz</td>\n",
       "    </tr>\n",
       "    <tr>\n",
       "      <th>1</th>\n",
       "      <td>img1.jpg</td>\n",
       "      <td>bart_simpson</td>\n",
       "    </tr>\n",
       "    <tr>\n",
       "      <th>2</th>\n",
       "      <td>img10.jpg</td>\n",
       "      <td>ned_flanders</td>\n",
       "    </tr>\n",
       "    <tr>\n",
       "      <th>3</th>\n",
       "      <td>img100.jpg</td>\n",
       "      <td>chief_wiggum</td>\n",
       "    </tr>\n",
       "    <tr>\n",
       "      <th>4</th>\n",
       "      <td>img101.jpg</td>\n",
       "      <td>apu_nahasapeemapetilon</td>\n",
       "    </tr>\n",
       "  </tbody>\n",
       "</table>\n",
       "</div>"
      ],
      "text/plain": [
       "           Id                Expected\n",
       "0    img0.jpg            nelson_muntz\n",
       "1    img1.jpg            bart_simpson\n",
       "2   img10.jpg            ned_flanders\n",
       "3  img100.jpg            chief_wiggum\n",
       "4  img101.jpg  apu_nahasapeemapetilon"
      ]
     },
     "execution_count": 32,
     "metadata": {},
     "output_type": "execute_result"
    }
   ],
   "source": [
    "\n",
    "\n",
    "\n",
    "history = train(train_dataset, val_dataset, model=rnxt50, epochs=5, batch_size=50)\n",
    "\n",
    "\n",
    "label_encoder = pickle.load(open(\"label_encoder.pkl\", 'rb'))\n",
    "\n",
    "test_dataset = SimpsonsDataset(test_files, mode=\"test\")\n",
    "test_loader = DataLoader(test_dataset, shuffle=False, batch_size=64)\n",
    "probs = predict(rnxt50, test_loader)\n",
    "\n",
    "\n",
    "preds = label_encoder.inverse_transform(np.argmax(probs, axis=1))\n",
    "test_filenames = [path.name for path in test_dataset.files]\n",
    "\n",
    "\n",
    "\n",
    "my_submit = pd.DataFrame({'Id': test_filenames, 'Expected': preds})\n",
    "my_submit.to_csv(\"e:\\\\labels1.csv\", index=False)\n",
    "my_submit.head()\n",
    "\n"
   ]
  },
  {
   "cell_type": "raw",
   "metadata": {},
   "source": [
    "\n",
    "label_encoder = pickle.load(open(\"label_encoder.pkl\", 'rb'))\n",
    "\n",
    "test_dataset = SimpsonsDataset(test_files, mode=\"test\")\n",
    "test_loader = DataLoader(test_dataset, shuffle=False, batch_size=64)\n",
    "probs = predict(rnxt50, test_loader)\n",
    "\n",
    "\n",
    "preds = label_encoder.inverse_transform(np.argmax(probs, axis=1))\n",
    "test_filenames = [path.name for path in test_dataset.files]\n",
    "\n",
    "\n",
    "\n",
    "my_submit = pd.DataFrame({'Id': test_filenames, 'Expected': preds})\n",
    "my_submit.to_csv(\"e:\\\\labels1.csv\", index=False)\n",
    "my_submit.head()\n",
    "\n"
   ]
  },
  {
   "cell_type": "code",
   "execution_count": null,
   "metadata": {
    "scrolled": true
   },
   "outputs": [],
   "source": [
    "model_resnet = torchvision.models.resnet18(pretrained=True).to(DEVICE)\n",
    "child_counter = 0\n",
    "for child in model_resnet.children():\n",
    "    print(\" child\", child_counter, \"is:\")\n",
    "    print(child)\n",
    "    child_counter += 1"
   ]
  },
  {
   "cell_type": "code",
   "execution_count": null,
   "metadata": {
    "scrolled": true
   },
   "outputs": [],
   "source": [
    "for i, child in enumerate(model_resnet.children()):\n",
    "    if i not in [9]:\n",
    "        for param in child.parameters():\n",
    "            param.requires_grad = False\n",
    "\n",
    "model_resnet.fc = nn.Sequential(nn.Linear(512,42))"
   ]
  },
  {
   "cell_type": "code",
   "execution_count": null,
   "metadata": {},
   "outputs": [],
   "source": [
    "model_resnet = model_resnet.cuda()\n"
   ]
  },
  {
   "cell_type": "code",
   "execution_count": null,
   "metadata": {},
   "outputs": [],
   "source": [
    "history = train(train_dataset, val_dataset, model=model_resnet, epochs=90, batch_size=64)\n",
    "\n",
    "label_encoder = pickle.load(open(\"label_encoder.pkl\", 'rb'))\n",
    "\n",
    "test_dataset = SimpsonsDataset(test_files, mode=\"test\")\n",
    "test_loader = DataLoader(test_dataset, shuffle=False, batch_size=64)\n",
    "probs = predict(model_resnet, test_loader)\n",
    "\n",
    "\n",
    "preds = label_encoder.inverse_transform(np.argmax(probs, axis=1))\n",
    "test_filenames = [path.name for path in test_dataset.files]\n",
    "\n",
    "\n",
    "\n",
    "my_submit = pd.DataFrame({'Id': test_filenames, 'Expected': preds})\n",
    "my_submit.to_csv(\"e:\\\\labels.csv\", index=False)\n",
    "my_submit.head()\n"
   ]
  },
  {
   "cell_type": "code",
   "execution_count": 46,
   "metadata": {},
   "outputs": [
    {
     "name": "stderr",
     "output_type": "stream",
     "text": [
      "\r",
      "epoch:   0%|                                                                                    | 0/25 [00:00<?, ?it/s]"
     ]
    },
    {
     "name": "stdout",
     "output_type": "stream",
     "text": [
      "loss 2.1456992070654697\n"
     ]
    },
    {
     "name": "stderr",
     "output_type": "stream",
     "text": [
      "epoch:   4%|███                                                                        | 1/25 [01:59<47:44, 119.35s/it]"
     ]
    },
    {
     "name": "stdout",
     "output_type": "stream",
     "text": [
      "\n",
      "Epoch 001 train_loss: 2.1457     val_loss 1.5094 train_acc 0.4840 val_acc 0.6500\n",
      "loss 1.2871129844543912\n"
     ]
    },
    {
     "name": "stderr",
     "output_type": "stream",
     "text": [
      "epoch:   8%|██████                                                                     | 2/25 [03:57<45:37, 119.03s/it]"
     ]
    },
    {
     "name": "stdout",
     "output_type": "stream",
     "text": [
      "\n",
      "Epoch 002 train_loss: 1.2871     val_loss 1.1918 train_acc 0.6924 val_acc 0.7018\n",
      "loss 1.0437781047013104\n"
     ]
    },
    {
     "name": "stderr",
     "output_type": "stream",
     "text": [
      "epoch:  12%|█████████                                                                  | 3/25 [05:55<43:34, 118.83s/it]"
     ]
    },
    {
     "name": "stdout",
     "output_type": "stream",
     "text": [
      "\n",
      "Epoch 003 train_loss: 1.0438     val_loss 1.0796 train_acc 0.7378 val_acc 0.7243\n",
      "loss 0.9189774154804263\n"
     ]
    },
    {
     "name": "stderr",
     "output_type": "stream",
     "text": [
      "epoch:  16%|████████████                                                               | 4/25 [07:54<41:32, 118.71s/it]"
     ]
    },
    {
     "name": "stdout",
     "output_type": "stream",
     "text": [
      "\n",
      "Epoch 004 train_loss: 0.9190     val_loss 0.9958 train_acc 0.7632 val_acc 0.7417\n",
      "loss 0.8428969547713484\n"
     ]
    },
    {
     "name": "stderr",
     "output_type": "stream",
     "text": [
      "epoch:  20%|███████████████                                                            | 5/25 [09:52<39:32, 118.61s/it]"
     ]
    },
    {
     "name": "stdout",
     "output_type": "stream",
     "text": [
      "\n",
      "Epoch 005 train_loss: 0.8429     val_loss 0.9548 train_acc 0.7786 val_acc 0.7476\n",
      "loss 0.77862948025478\n"
     ]
    },
    {
     "name": "stderr",
     "output_type": "stream",
     "text": [
      "epoch:  24%|██████████████████                                                         | 6/25 [11:50<37:30, 118.45s/it]"
     ]
    },
    {
     "name": "stdout",
     "output_type": "stream",
     "text": [
      "\n",
      "Epoch 006 train_loss: 0.7786     val_loss 0.9367 train_acc 0.7947 val_acc 0.7497\n",
      "loss 0.7362678952638994\n"
     ]
    },
    {
     "name": "stderr",
     "output_type": "stream",
     "text": [
      "epoch:  28%|█████████████████████                                                      | 7/25 [13:49<35:32, 118.45s/it]"
     ]
    },
    {
     "name": "stdout",
     "output_type": "stream",
     "text": [
      "\n",
      "Epoch 007 train_loss: 0.7363     val_loss 0.9092 train_acc 0.8018 val_acc 0.7593\n",
      "loss 0.7022871530027904\n"
     ]
    },
    {
     "name": "stderr",
     "output_type": "stream",
     "text": [
      "epoch:  32%|████████████████████████                                                   | 8/25 [15:47<33:31, 118.34s/it]"
     ]
    },
    {
     "name": "stdout",
     "output_type": "stream",
     "text": [
      "\n",
      "Epoch 008 train_loss: 0.7023     val_loss 0.8940 train_acc 0.8109 val_acc 0.7598\n",
      "loss 0.6701404128236235\n"
     ]
    },
    {
     "name": "stderr",
     "output_type": "stream",
     "text": [
      "epoch:  36%|███████████████████████████                                                | 9/25 [17:45<31:29, 118.12s/it]"
     ]
    },
    {
     "name": "stdout",
     "output_type": "stream",
     "text": [
      "\n",
      "Epoch 009 train_loss: 0.6701     val_loss 0.8934 train_acc 0.8220 val_acc 0.7591\n",
      "loss 0.6442771926602935\n"
     ]
    },
    {
     "name": "stderr",
     "output_type": "stream",
     "text": [
      "epoch:  40%|█████████████████████████████▌                                            | 10/25 [19:42<29:30, 118.01s/it]"
     ]
    },
    {
     "name": "stdout",
     "output_type": "stream",
     "text": [
      "\n",
      "Epoch 010 train_loss: 0.6443     val_loss 0.8754 train_acc 0.8277 val_acc 0.7650\n",
      "loss 0.626524508401872\n"
     ]
    },
    {
     "name": "stderr",
     "output_type": "stream",
     "text": [
      "epoch:  44%|████████████████████████████████▌                                         | 11/25 [21:40<27:32, 118.01s/it]"
     ]
    },
    {
     "name": "stdout",
     "output_type": "stream",
     "text": [
      "\n",
      "Epoch 011 train_loss: 0.6265     val_loss 0.8740 train_acc 0.8309 val_acc 0.7616\n",
      "loss 0.606878325486458\n"
     ]
    },
    {
     "name": "stderr",
     "output_type": "stream",
     "text": [
      "epoch:  48%|███████████████████████████████████▌                                      | 12/25 [23:38<25:33, 117.98s/it]"
     ]
    },
    {
     "name": "stdout",
     "output_type": "stream",
     "text": [
      "\n",
      "Epoch 012 train_loss: 0.6069     val_loss 0.8699 train_acc 0.8338 val_acc 0.7661\n",
      "loss 0.5899339729991336\n"
     ]
    },
    {
     "name": "stderr",
     "output_type": "stream",
     "text": [
      "epoch:  52%|██████████████████████████████████████▍                                   | 13/25 [25:36<23:34, 117.87s/it]"
     ]
    },
    {
     "name": "stdout",
     "output_type": "stream",
     "text": [
      "\n",
      "Epoch 013 train_loss: 0.5899     val_loss 0.8637 train_acc 0.8383 val_acc 0.7673\n",
      "loss 0.5726194593342818\n"
     ]
    },
    {
     "name": "stderr",
     "output_type": "stream",
     "text": [
      "epoch:  56%|█████████████████████████████████████████▍                                | 14/25 [27:33<21:35, 117.79s/it]"
     ]
    },
    {
     "name": "stdout",
     "output_type": "stream",
     "text": [
      "\n",
      "Epoch 014 train_loss: 0.5726     val_loss 0.8548 train_acc 0.8439 val_acc 0.7705\n",
      "loss 0.5596547007667038\n"
     ]
    },
    {
     "name": "stderr",
     "output_type": "stream",
     "text": [
      "epoch:  60%|████████████████████████████████████████████▍                             | 15/25 [29:31<19:37, 117.71s/it]"
     ]
    },
    {
     "name": "stdout",
     "output_type": "stream",
     "text": [
      "\n",
      "Epoch 015 train_loss: 0.5597     val_loss 0.8489 train_acc 0.8478 val_acc 0.7740\n",
      "loss 0.549220790911787\n"
     ]
    },
    {
     "name": "stderr",
     "output_type": "stream",
     "text": [
      "epoch:  64%|███████████████████████████████████████████████▎                          | 16/25 [31:29<17:39, 117.72s/it]"
     ]
    },
    {
     "name": "stdout",
     "output_type": "stream",
     "text": [
      "\n",
      "Epoch 016 train_loss: 0.5492     val_loss 0.8535 train_acc 0.8520 val_acc 0.7744\n",
      "loss 0.5379408439338356\n"
     ]
    },
    {
     "name": "stderr",
     "output_type": "stream",
     "text": [
      "epoch:  68%|██████████████████████████████████████████████████▎                       | 17/25 [33:26<15:41, 117.71s/it]"
     ]
    },
    {
     "name": "stdout",
     "output_type": "stream",
     "text": [
      "\n",
      "Epoch 017 train_loss: 0.5379     val_loss 0.8654 train_acc 0.8519 val_acc 0.7671\n",
      "loss 0.5254550292500417\n"
     ]
    },
    {
     "name": "stderr",
     "output_type": "stream",
     "text": [
      "epoch:  72%|█████████████████████████████████████████████████████▎                    | 18/25 [35:24<13:43, 117.66s/it]"
     ]
    },
    {
     "name": "stdout",
     "output_type": "stream",
     "text": [
      "\n",
      "Epoch 018 train_loss: 0.5255     val_loss 0.8451 train_acc 0.8565 val_acc 0.7724\n",
      "loss 0.5188125191342186\n"
     ]
    },
    {
     "name": "stderr",
     "output_type": "stream",
     "text": [
      "epoch:  76%|████████████████████████████████████████████████████████▏                 | 19/25 [37:21<11:45, 117.64s/it]"
     ]
    },
    {
     "name": "stdout",
     "output_type": "stream",
     "text": [
      "\n",
      "Epoch 019 train_loss: 0.5188     val_loss 0.8339 train_acc 0.8601 val_acc 0.7799\n",
      "loss 0.5065387573293215\n"
     ]
    },
    {
     "name": "stderr",
     "output_type": "stream",
     "text": [
      "epoch:  80%|███████████████████████████████████████████████████████████▏              | 20/25 [39:20<09:49, 118.00s/it]"
     ]
    },
    {
     "name": "stdout",
     "output_type": "stream",
     "text": [
      "\n",
      "Epoch 020 train_loss: 0.5065     val_loss 0.8497 train_acc 0.8643 val_acc 0.7747\n",
      "loss 0.49919589723900737\n"
     ]
    },
    {
     "name": "stderr",
     "output_type": "stream",
     "text": [
      "epoch:  84%|██████████████████████████████████████████████████████████████▏           | 21/25 [41:21<07:55, 118.80s/it]"
     ]
    },
    {
     "name": "stdout",
     "output_type": "stream",
     "text": [
      "\n",
      "Epoch 021 train_loss: 0.4992     val_loss 0.8403 train_acc 0.8638 val_acc 0.7812\n",
      "loss 0.491421541933634\n"
     ]
    },
    {
     "name": "stderr",
     "output_type": "stream",
     "text": [
      "epoch:  88%|█████████████████████████████████████████████████████████████████         | 22/25 [43:22<05:58, 119.42s/it]"
     ]
    },
    {
     "name": "stdout",
     "output_type": "stream",
     "text": [
      "\n",
      "Epoch 022 train_loss: 0.4914     val_loss 0.8497 train_acc 0.8676 val_acc 0.7746\n",
      "loss 0.4853542527922233\n"
     ]
    },
    {
     "name": "stderr",
     "output_type": "stream",
     "text": [
      "epoch:  92%|████████████████████████████████████████████████████████████████████      | 23/25 [45:21<03:58, 119.43s/it]"
     ]
    },
    {
     "name": "stdout",
     "output_type": "stream",
     "text": [
      "\n",
      "Epoch 023 train_loss: 0.4854     val_loss 0.8418 train_acc 0.8694 val_acc 0.7795\n",
      "loss 0.47677275771373046\n"
     ]
    },
    {
     "name": "stderr",
     "output_type": "stream",
     "text": [
      "epoch:  96%|███████████████████████████████████████████████████████████████████████   | 24/25 [47:20<01:59, 119.26s/it]"
     ]
    },
    {
     "name": "stdout",
     "output_type": "stream",
     "text": [
      "\n",
      "Epoch 024 train_loss: 0.4768     val_loss 0.8506 train_acc 0.8698 val_acc 0.7780\n",
      "loss 0.46944782616826514\n"
     ]
    },
    {
     "name": "stderr",
     "output_type": "stream",
     "text": [
      "epoch: 100%|██████████████████████████████████████████████████████████████████████████| 25/25 [49:20<00:00, 118.43s/it]"
     ]
    },
    {
     "name": "stdout",
     "output_type": "stream",
     "text": [
      "\n",
      "Epoch 025 train_loss: 0.4694     val_loss 0.8551 train_acc 0.8708 val_acc 0.7736\n"
     ]
    },
    {
     "name": "stderr",
     "output_type": "stream",
     "text": [
      "\n"
     ]
    }
   ],
   "source": [
    "history = train(train_dataset, val_dataset, model=model_resnet, epochs=25, batch_size=64)"
   ]
  },
  {
   "cell_type": "code",
   "execution_count": 47,
   "metadata": {},
   "outputs": [],
   "source": [
    "import copy\n",
    "\n",
    "# сохранить веса нашей нейросети model\n",
    "model_pre_weights = copy.deepcopy(model_resnet.state_dict())"
   ]
  },
  {
   "cell_type": "code",
   "execution_count": 48,
   "metadata": {},
   "outputs": [],
   "source": [
    "for child in model_resnet.children():\n",
    "    for param in child.parameters():\n",
    "        param.requires_grad = True"
   ]
  },
  {
   "cell_type": "code",
   "execution_count": 49,
   "metadata": {
    "scrolled": true
   },
   "outputs": [
    {
     "name": "stderr",
     "output_type": "stream",
     "text": [
      "\r",
      "epoch:   0%|                                                                                    | 0/50 [00:00<?, ?it/s]"
     ]
    },
    {
     "name": "stdout",
     "output_type": "stream",
     "text": [
      "loss 3.8755884982725717\n"
     ]
    },
    {
     "name": "stderr",
     "output_type": "stream",
     "text": [
      "epoch:   2%|█▍                                                                       | 1/50 [02:15<1:50:48, 135.69s/it]"
     ]
    },
    {
     "name": "stdout",
     "output_type": "stream",
     "text": [
      "\n",
      "Epoch 001 train_loss: 3.8756     val_loss 3.1130 train_acc 0.1020 val_acc 0.1074\n",
      "loss 3.1205559292449503\n"
     ]
    },
    {
     "name": "stderr",
     "output_type": "stream",
     "text": [
      "epoch:   4%|██▉                                                                      | 2/50 [04:33<1:49:00, 136.26s/it]"
     ]
    },
    {
     "name": "stdout",
     "output_type": "stream",
     "text": [
      "\n",
      "Epoch 002 train_loss: 3.1206     val_loss 3.1113 train_acc 0.1069 val_acc 0.1074\n",
      "loss 3.1190991041439946\n"
     ]
    },
    {
     "name": "stderr",
     "output_type": "stream",
     "text": [
      "epoch:   6%|████▍                                                                    | 3/50 [06:51<1:47:14, 136.91s/it]"
     ]
    },
    {
     "name": "stdout",
     "output_type": "stream",
     "text": [
      "\n",
      "Epoch 003 train_loss: 3.1191     val_loss 3.1116 train_acc 0.1070 val_acc 0.1074\n",
      "loss 3.1140854311138213\n"
     ]
    },
    {
     "name": "stderr",
     "output_type": "stream",
     "text": [
      "epoch:   8%|█████▊                                                                   | 4/50 [09:08<1:44:58, 136.93s/it]"
     ]
    },
    {
     "name": "stdout",
     "output_type": "stream",
     "text": [
      "\n",
      "Epoch 004 train_loss: 3.1141     val_loss 3.1023 train_acc 0.1061 val_acc 0.1100\n",
      "loss 3.0246054800887556\n"
     ]
    },
    {
     "name": "stderr",
     "output_type": "stream",
     "text": [
      "epoch:  10%|███████▎                                                                 | 5/50 [11:26<1:42:52, 137.17s/it]"
     ]
    },
    {
     "name": "stdout",
     "output_type": "stream",
     "text": [
      "\n",
      "Epoch 005 train_loss: 3.0246     val_loss 2.9402 train_acc 0.1355 val_acc 0.1511\n",
      "loss 2.7493503018696375\n"
     ]
    },
    {
     "name": "stderr",
     "output_type": "stream",
     "text": [
      "epoch:  12%|████████▊                                                                | 6/50 [13:43<1:40:29, 137.04s/it]"
     ]
    },
    {
     "name": "stdout",
     "output_type": "stream",
     "text": [
      "\n",
      "Epoch 006 train_loss: 2.7494     val_loss 2.5473 train_acc 0.2224 val_acc 0.2789\n",
      "loss 2.14266231963039\n"
     ]
    },
    {
     "name": "stderr",
     "output_type": "stream",
     "text": [
      "epoch:  14%|██████████▏                                                              | 7/50 [15:59<1:38:05, 136.87s/it]"
     ]
    },
    {
     "name": "stdout",
     "output_type": "stream",
     "text": [
      "\n",
      "Epoch 007 train_loss: 2.1427     val_loss 1.8483 train_acc 0.4027 val_acc 0.4771\n",
      "loss 1.3813606937361853\n"
     ]
    },
    {
     "name": "stderr",
     "output_type": "stream",
     "text": [
      "epoch:  16%|███████████▋                                                             | 8/50 [18:16<1:35:44, 136.78s/it]"
     ]
    },
    {
     "name": "stdout",
     "output_type": "stream",
     "text": [
      "\n",
      "Epoch 008 train_loss: 1.3814     val_loss 1.1782 train_acc 0.6193 val_acc 0.6714\n",
      "loss 0.9369118316772371\n"
     ]
    },
    {
     "name": "stderr",
     "output_type": "stream",
     "text": [
      "epoch:  18%|█████████████▏                                                           | 9/50 [20:32<1:33:24, 136.69s/it]"
     ]
    },
    {
     "name": "stdout",
     "output_type": "stream",
     "text": [
      "\n",
      "Epoch 009 train_loss: 0.9369     val_loss 0.8998 train_acc 0.7385 val_acc 0.7593\n",
      "loss 0.7087913734592886\n"
     ]
    },
    {
     "name": "stderr",
     "output_type": "stream",
     "text": [
      "epoch:  20%|██████████████▍                                                         | 10/50 [22:49<1:31:03, 136.60s/it]"
     ]
    },
    {
     "name": "stdout",
     "output_type": "stream",
     "text": [
      "\n",
      "Epoch 010 train_loss: 0.7088     val_loss 0.7854 train_acc 0.7970 val_acc 0.7874\n",
      "loss 0.5256362741020381\n"
     ]
    },
    {
     "name": "stderr",
     "output_type": "stream",
     "text": [
      "epoch:  22%|███████████████▊                                                        | 11/50 [25:06<1:28:53, 136.76s/it]"
     ]
    },
    {
     "name": "stdout",
     "output_type": "stream",
     "text": [
      "\n",
      "Epoch 011 train_loss: 0.5256     val_loss 0.7275 train_acc 0.8502 val_acc 0.8097\n",
      "loss 0.41391894067823604\n"
     ]
    },
    {
     "name": "stderr",
     "output_type": "stream",
     "text": [
      "epoch:  24%|█████████████████▎                                                      | 12/50 [27:22<1:26:32, 136.65s/it]"
     ]
    },
    {
     "name": "stdout",
     "output_type": "stream",
     "text": [
      "\n",
      "Epoch 012 train_loss: 0.4139     val_loss 0.5954 train_acc 0.8802 val_acc 0.8433\n",
      "loss 0.33222838873673083\n"
     ]
    },
    {
     "name": "stderr",
     "output_type": "stream",
     "text": [
      "epoch:  26%|██████████████████▋                                                     | 13/50 [29:40<1:24:29, 137.01s/it]"
     ]
    },
    {
     "name": "stdout",
     "output_type": "stream",
     "text": [
      "\n",
      "Epoch 013 train_loss: 0.3322     val_loss 0.6230 train_acc 0.9003 val_acc 0.8397\n",
      "loss 0.29150308367960986\n"
     ]
    },
    {
     "name": "stderr",
     "output_type": "stream",
     "text": [
      "epoch:  28%|████████████████████▏                                                   | 14/50 [31:58<1:22:19, 137.21s/it]"
     ]
    },
    {
     "name": "stdout",
     "output_type": "stream",
     "text": [
      "\n",
      "Epoch 014 train_loss: 0.2915     val_loss 0.6778 train_acc 0.9113 val_acc 0.8286\n",
      "loss 0.22384526657028497\n"
     ]
    },
    {
     "name": "stderr",
     "output_type": "stream",
     "text": [
      "epoch:  30%|█████████████████████▌                                                  | 15/50 [34:14<1:19:52, 136.94s/it]"
     ]
    },
    {
     "name": "stdout",
     "output_type": "stream",
     "text": [
      "\n",
      "Epoch 015 train_loss: 0.2238     val_loss 0.6221 train_acc 0.9301 val_acc 0.8540\n",
      "loss 0.18843826807428374\n"
     ]
    },
    {
     "name": "stderr",
     "output_type": "stream",
     "text": [
      "epoch:  32%|███████████████████████                                                 | 16/50 [36:30<1:17:27, 136.70s/it]"
     ]
    },
    {
     "name": "stdout",
     "output_type": "stream",
     "text": [
      "\n",
      "Epoch 016 train_loss: 0.1884     val_loss 0.6750 train_acc 0.9429 val_acc 0.8437\n",
      "loss 0.16610765135096883\n"
     ]
    },
    {
     "name": "stderr",
     "output_type": "stream",
     "text": [
      "epoch:  34%|████████████████████████▍                                               | 17/50 [38:47<1:15:10, 136.67s/it]"
     ]
    },
    {
     "name": "stdout",
     "output_type": "stream",
     "text": [
      "\n",
      "Epoch 017 train_loss: 0.1661     val_loss 0.6839 train_acc 0.9483 val_acc 0.8519\n",
      "loss 0.16040586509796242\n"
     ]
    },
    {
     "name": "stderr",
     "output_type": "stream",
     "text": [
      "epoch:  36%|█████████████████████████▉                                              | 18/50 [41:05<1:13:05, 137.04s/it]"
     ]
    },
    {
     "name": "stdout",
     "output_type": "stream",
     "text": [
      "\n",
      "Epoch 018 train_loss: 0.1604     val_loss 0.7027 train_acc 0.9513 val_acc 0.8573\n",
      "loss 0.15383001739595017\n"
     ]
    },
    {
     "name": "stderr",
     "output_type": "stream",
     "text": [
      "epoch:  38%|███████████████████████████▎                                            | 19/50 [43:24<1:11:08, 137.70s/it]"
     ]
    },
    {
     "name": "stdout",
     "output_type": "stream",
     "text": [
      "\n",
      "Epoch 019 train_loss: 0.1538     val_loss 0.8536 train_acc 0.9531 val_acc 0.8280\n",
      "loss 0.14120715864335392\n"
     ]
    },
    {
     "name": "stderr",
     "output_type": "stream",
     "text": [
      "epoch:  40%|████████████████████████████▊                                           | 20/50 [45:46<1:09:27, 138.91s/it]"
     ]
    },
    {
     "name": "stdout",
     "output_type": "stream",
     "text": [
      "\n",
      "Epoch 020 train_loss: 0.1412     val_loss 0.7320 train_acc 0.9578 val_acc 0.8579\n",
      "loss 0.11324018535276428\n"
     ]
    },
    {
     "name": "stderr",
     "output_type": "stream",
     "text": [
      "epoch:  42%|██████████████████████████████▏                                         | 21/50 [48:07<1:07:33, 139.79s/it]"
     ]
    },
    {
     "name": "stdout",
     "output_type": "stream",
     "text": [
      "\n",
      "Epoch 021 train_loss: 0.1132     val_loss 0.6803 train_acc 0.9664 val_acc 0.8607\n",
      "loss 0.07591561041285912\n"
     ]
    },
    {
     "name": "stderr",
     "output_type": "stream",
     "text": [
      "epoch:  44%|███████████████████████████████▋                                        | 22/50 [50:24<1:04:51, 138.98s/it]"
     ]
    },
    {
     "name": "stdout",
     "output_type": "stream",
     "text": [
      "\n",
      "Epoch 022 train_loss: 0.0759     val_loss 0.7010 train_acc 0.9779 val_acc 0.8747\n",
      "loss 0.10346319804401016\n"
     ]
    },
    {
     "name": "stderr",
     "output_type": "stream",
     "text": [
      "epoch:  46%|█████████████████████████████████                                       | 23/50 [52:41<1:02:14, 138.33s/it]"
     ]
    },
    {
     "name": "stdout",
     "output_type": "stream",
     "text": [
      "\n",
      "Epoch 023 train_loss: 0.1035     val_loss 0.7352 train_acc 0.9696 val_acc 0.8724\n",
      "loss 0.13454466975887944\n"
     ]
    },
    {
     "name": "stderr",
     "output_type": "stream",
     "text": [
      "epoch:  48%|███████████████████████████████████▌                                      | 24/50 [54:58<59:47, 137.97s/it]"
     ]
    },
    {
     "name": "stdout",
     "output_type": "stream",
     "text": [
      "\n",
      "Epoch 024 train_loss: 0.1345     val_loss 0.7479 train_acc 0.9608 val_acc 0.8546\n",
      "loss 0.07982108098028176\n"
     ]
    },
    {
     "name": "stderr",
     "output_type": "stream",
     "text": [
      "epoch:  50%|█████████████████████████████████████                                     | 25/50 [57:17<57:36, 138.28s/it]"
     ]
    },
    {
     "name": "stdout",
     "output_type": "stream",
     "text": [
      "\n",
      "Epoch 025 train_loss: 0.0798     val_loss 0.6925 train_acc 0.9757 val_acc 0.8743\n",
      "loss 0.07982931357142621\n"
     ]
    },
    {
     "name": "stderr",
     "output_type": "stream",
     "text": [
      "epoch:  52%|██████████████████████████████████████▍                                   | 26/50 [59:38<55:31, 138.83s/it]"
     ]
    },
    {
     "name": "stdout",
     "output_type": "stream",
     "text": [
      "\n",
      "Epoch 026 train_loss: 0.0798     val_loss 0.7512 train_acc 0.9782 val_acc 0.8592\n",
      "loss 0.08643893779740303\n"
     ]
    },
    {
     "name": "stderr",
     "output_type": "stream",
     "text": [
      "epoch:  54%|██████████████████████████████████████▉                                 | 27/50 [1:02:02<53:50, 140.45s/it]"
     ]
    },
    {
     "name": "stdout",
     "output_type": "stream",
     "text": [
      "\n",
      "Epoch 027 train_loss: 0.0864     val_loss 0.7699 train_acc 0.9745 val_acc 0.8571\n",
      "loss 0.07469291403449237\n"
     ]
    },
    {
     "name": "stderr",
     "output_type": "stream",
     "text": [
      "epoch:  56%|████████████████████████████████████████▎                               | 28/50 [1:04:26<51:52, 141.48s/it]"
     ]
    },
    {
     "name": "stdout",
     "output_type": "stream",
     "text": [
      "\n",
      "Epoch 028 train_loss: 0.0747     val_loss 0.7088 train_acc 0.9778 val_acc 0.8712\n",
      "loss 0.08783914446072592\n"
     ]
    },
    {
     "name": "stderr",
     "output_type": "stream",
     "text": [
      "epoch:  58%|█████████████████████████████████████████▊                              | 29/50 [1:06:43<49:05, 140.28s/it]"
     ]
    },
    {
     "name": "stdout",
     "output_type": "stream",
     "text": [
      "\n",
      "Epoch 029 train_loss: 0.0878     val_loss 0.7239 train_acc 0.9740 val_acc 0.8777\n",
      "loss 0.07435640821561926\n"
     ]
    },
    {
     "name": "stderr",
     "output_type": "stream",
     "text": [
      "epoch:  60%|███████████████████████████████████████████▏                            | 30/50 [1:09:01<46:28, 139.44s/it]"
     ]
    },
    {
     "name": "stdout",
     "output_type": "stream",
     "text": [
      "\n",
      "Epoch 030 train_loss: 0.0744     val_loss 0.7969 train_acc 0.9780 val_acc 0.8588\n",
      "loss 0.07312094003125372\n"
     ]
    },
    {
     "name": "stderr",
     "output_type": "stream",
     "text": [
      "epoch:  62%|████████████████████████████████████████████▋                           | 31/50 [1:11:18<43:57, 138.84s/it]"
     ]
    },
    {
     "name": "stdout",
     "output_type": "stream",
     "text": [
      "\n",
      "Epoch 031 train_loss: 0.0731     val_loss 0.6929 train_acc 0.9791 val_acc 0.8796\n",
      "loss 0.057461510405691425\n"
     ]
    },
    {
     "name": "stderr",
     "output_type": "stream",
     "text": [
      "epoch:  64%|██████████████████████████████████████████████                          | 32/50 [1:13:35<41:31, 138.41s/it]"
     ]
    },
    {
     "name": "stdout",
     "output_type": "stream",
     "text": [
      "\n",
      "Epoch 032 train_loss: 0.0575     val_loss 0.7214 train_acc 0.9832 val_acc 0.8766\n",
      "loss 0.06872630153428919\n"
     ]
    },
    {
     "name": "stderr",
     "output_type": "stream",
     "text": [
      "epoch:  66%|███████████████████████████████████████████████▌                        | 33/50 [1:15:51<38:59, 137.63s/it]"
     ]
    },
    {
     "name": "stdout",
     "output_type": "stream",
     "text": [
      "\n",
      "Epoch 033 train_loss: 0.0687     val_loss 0.8743 train_acc 0.9811 val_acc 0.8462\n",
      "loss 0.06300349246787185\n"
     ]
    },
    {
     "name": "stderr",
     "output_type": "stream",
     "text": [
      "epoch:  68%|████████████████████████████████████████████████▉                       | 34/50 [1:18:06<36:30, 136.90s/it]"
     ]
    },
    {
     "name": "stdout",
     "output_type": "stream",
     "text": [
      "\n",
      "Epoch 034 train_loss: 0.0630     val_loss 0.7790 train_acc 0.9801 val_acc 0.8731\n",
      "loss 0.06366366362100116\n"
     ]
    },
    {
     "name": "stderr",
     "output_type": "stream",
     "text": [
      "epoch:  70%|██████████████████████████████████████████████████▍                     | 35/50 [1:20:22<34:07, 136.48s/it]"
     ]
    },
    {
     "name": "stdout",
     "output_type": "stream",
     "text": [
      "\n",
      "Epoch 035 train_loss: 0.0637     val_loss 0.7879 train_acc 0.9812 val_acc 0.8609\n",
      "loss 0.11581797777746182\n"
     ]
    },
    {
     "name": "stderr",
     "output_type": "stream",
     "text": [
      "epoch:  72%|███████████████████████████████████████████████████▊                    | 36/50 [1:22:37<31:43, 136.00s/it]"
     ]
    },
    {
     "name": "stdout",
     "output_type": "stream",
     "text": [
      "\n",
      "Epoch 036 train_loss: 0.1158     val_loss 0.8972 train_acc 0.9665 val_acc 0.8489\n",
      "loss 0.054879246631624044\n"
     ]
    },
    {
     "name": "stderr",
     "output_type": "stream",
     "text": [
      "epoch:  74%|█████████████████████████████████████████████████████▎                  | 37/50 [1:24:51<29:22, 135.58s/it]"
     ]
    },
    {
     "name": "stdout",
     "output_type": "stream",
     "text": [
      "\n",
      "Epoch 037 train_loss: 0.0549     val_loss 0.8203 train_acc 0.9842 val_acc 0.8657\n",
      "loss 0.06860749336250596\n"
     ]
    },
    {
     "name": "stderr",
     "output_type": "stream",
     "text": [
      "epoch:  76%|██████████████████████████████████████████████████████▋                 | 38/50 [1:27:06<27:04, 135.35s/it]"
     ]
    },
    {
     "name": "stdout",
     "output_type": "stream",
     "text": [
      "\n",
      "Epoch 038 train_loss: 0.0686     val_loss 0.6926 train_acc 0.9799 val_acc 0.8741\n",
      "loss 0.043651029778967176\n"
     ]
    },
    {
     "name": "stderr",
     "output_type": "stream",
     "text": [
      "epoch:  78%|████████████████████████████████████████████████████████▏               | 39/50 [1:29:21<24:48, 135.32s/it]"
     ]
    },
    {
     "name": "stdout",
     "output_type": "stream",
     "text": [
      "\n",
      "Epoch 039 train_loss: 0.0437     val_loss 0.7604 train_acc 0.9871 val_acc 0.8764\n",
      "loss 0.05489432155154349\n"
     ]
    },
    {
     "name": "stderr",
     "output_type": "stream",
     "text": [
      "epoch:  80%|█████████████████████████████████████████████████████████▌              | 40/50 [1:31:38<22:37, 135.72s/it]"
     ]
    },
    {
     "name": "stdout",
     "output_type": "stream",
     "text": [
      "\n",
      "Epoch 040 train_loss: 0.0549     val_loss 0.7366 train_acc 0.9831 val_acc 0.8684\n",
      "loss 0.061374426699609574\n"
     ]
    },
    {
     "name": "stderr",
     "output_type": "stream",
     "text": [
      "epoch:  82%|███████████████████████████████████████████████████████████             | 41/50 [1:33:55<20:23, 135.92s/it]"
     ]
    },
    {
     "name": "stdout",
     "output_type": "stream",
     "text": [
      "\n",
      "Epoch 041 train_loss: 0.0614     val_loss 0.8099 train_acc 0.9815 val_acc 0.8619\n",
      "loss 0.0407412359640783\n"
     ]
    },
    {
     "name": "stderr",
     "output_type": "stream",
     "text": [
      "epoch:  84%|████████████████████████████████████████████████████████████▍           | 42/50 [1:36:12<18:11, 136.46s/it]"
     ]
    },
    {
     "name": "stdout",
     "output_type": "stream",
     "text": [
      "\n",
      "Epoch 042 train_loss: 0.0407     val_loss 0.8156 train_acc 0.9886 val_acc 0.8833\n",
      "loss 0.05190270905083287\n"
     ]
    },
    {
     "name": "stderr",
     "output_type": "stream",
     "text": [
      "epoch:  86%|█████████████████████████████████████████████████████████████▉          | 43/50 [1:38:30<15:58, 136.87s/it]"
     ]
    },
    {
     "name": "stdout",
     "output_type": "stream",
     "text": [
      "\n",
      "Epoch 043 train_loss: 0.0519     val_loss 1.0534 train_acc 0.9851 val_acc 0.8401\n",
      "loss 0.0634341038392394\n"
     ]
    },
    {
     "name": "stderr",
     "output_type": "stream",
     "text": [
      "epoch:  88%|███████████████████████████████████████████████████████████████▎        | 44/50 [1:40:48<13:43, 137.22s/it]"
     ]
    },
    {
     "name": "stdout",
     "output_type": "stream",
     "text": [
      "\n",
      "Epoch 044 train_loss: 0.0634     val_loss 0.7662 train_acc 0.9820 val_acc 0.8863\n",
      "loss 0.016676689100368597\n"
     ]
    },
    {
     "name": "stderr",
     "output_type": "stream",
     "text": [
      "epoch:  90%|████████████████████████████████████████████████████████████████▊       | 45/50 [1:43:06<11:26, 137.36s/it]"
     ]
    },
    {
     "name": "stdout",
     "output_type": "stream",
     "text": [
      "\n",
      "Epoch 045 train_loss: 0.0167     val_loss 0.8559 train_acc 0.9948 val_acc 0.8729\n",
      "loss 0.044985263103744275\n"
     ]
    },
    {
     "name": "stderr",
     "output_type": "stream",
     "text": [
      "epoch:  92%|██████████████████████████████████████████████████████████████████▏     | 46/50 [1:45:24<09:10, 137.52s/it]"
     ]
    },
    {
     "name": "stdout",
     "output_type": "stream",
     "text": [
      "\n",
      "Epoch 046 train_loss: 0.0450     val_loss 0.7818 train_acc 0.9870 val_acc 0.8770\n",
      "loss 0.06330927017958958\n"
     ]
    },
    {
     "name": "stderr",
     "output_type": "stream",
     "text": [
      "epoch:  94%|███████████████████████████████████████████████████████████████████▋    | 47/50 [1:47:42<06:53, 137.70s/it]"
     ]
    },
    {
     "name": "stdout",
     "output_type": "stream",
     "text": [
      "\n",
      "Epoch 047 train_loss: 0.0633     val_loss 0.7152 train_acc 0.9818 val_acc 0.8819\n",
      "loss 0.03467413551371415\n"
     ]
    },
    {
     "name": "stderr",
     "output_type": "stream",
     "text": [
      "epoch:  96%|█████████████████████████████████████████████████████████████████████   | 48/50 [1:50:02<04:36, 138.46s/it]"
     ]
    },
    {
     "name": "stdout",
     "output_type": "stream",
     "text": [
      "\n",
      "Epoch 048 train_loss: 0.0347     val_loss 0.7853 train_acc 0.9905 val_acc 0.8766\n",
      "loss 0.03836014372324454\n"
     ]
    },
    {
     "name": "stderr",
     "output_type": "stream",
     "text": [
      "epoch:  98%|██████████████████████████████████████████████████████████████████████▌ | 49/50 [1:52:21<02:18, 138.67s/it]"
     ]
    },
    {
     "name": "stdout",
     "output_type": "stream",
     "text": [
      "\n",
      "Epoch 049 train_loss: 0.0384     val_loss 0.8904 train_acc 0.9892 val_acc 0.8731\n",
      "loss 0.052642741503661564\n"
     ]
    },
    {
     "name": "stderr",
     "output_type": "stream",
     "text": [
      "epoch: 100%|████████████████████████████████████████████████████████████████████████| 50/50 [1:54:40<00:00, 137.62s/it]"
     ]
    },
    {
     "name": "stdout",
     "output_type": "stream",
     "text": [
      "\n",
      "Epoch 050 train_loss: 0.0526     val_loss 0.6942 train_acc 0.9845 val_acc 0.8806\n"
     ]
    },
    {
     "name": "stderr",
     "output_type": "stream",
     "text": [
      "\n"
     ]
    }
   ],
   "source": [
    "history = train(train_dataset, val_dataset, model=model_resnet, epochs=50, batch_size=64)"
   ]
  },
  {
   "cell_type": "code",
   "execution_count": null,
   "metadata": {},
   "outputs": [],
   "source": []
  },
  {
   "cell_type": "markdown",
   "metadata": {
    "papermill": {
     "duration": 0.08483,
     "end_time": "2020-12-02T14:40:49.055054",
     "exception": false,
     "start_time": "2020-12-02T14:40:48.970224",
     "status": "completed"
    },
    "tags": []
   },
   "source": [
    "Обучать в данной модели будем только последнии слои, которые выполняют функцию классификатора. "
   ]
  },
  {
   "cell_type": "code",
   "execution_count": 32,
   "metadata": {},
   "outputs": [],
   "source": [
    "for child in model_resnet.children():\n",
    "    for param in child.parameters():\n",
    "        param.requires_grad = True"
   ]
  },
  {
   "cell_type": "code",
   "execution_count": 33,
   "metadata": {
    "scrolled": true
   },
   "outputs": [
    {
     "name": "stderr",
     "output_type": "stream",
     "text": [
      "\r",
      "epoch:   0%|                                                                                    | 0/50 [00:00<?, ?it/s]"
     ]
    },
    {
     "name": "stdout",
     "output_type": "stream",
     "text": [
      "loss 0.6266241207022626\n"
     ]
    },
    {
     "name": "stderr",
     "output_type": "stream",
     "text": [
      "epoch:   2%|█▍                                                                       | 1/50 [02:18<1:53:18, 138.75s/it]"
     ]
    },
    {
     "name": "stdout",
     "output_type": "stream",
     "text": [
      "\n",
      "Epoch 001 train_loss: 0.6266     val_loss 0.5429 train_acc 0.8451 val_acc 0.8615\n",
      "loss 3.1489556690592457\n"
     ]
    },
    {
     "name": "stderr",
     "output_type": "stream",
     "text": [
      "epoch:   4%|██▉                                                                      | 2/50 [04:35<1:50:37, 138.27s/it]"
     ]
    },
    {
     "name": "stdout",
     "output_type": "stream",
     "text": [
      "\n",
      "Epoch 002 train_loss: 3.1490     val_loss 3.1091 train_acc 0.1092 val_acc 0.1074\n",
      "loss 3.114500537481465\n"
     ]
    },
    {
     "name": "stderr",
     "output_type": "stream",
     "text": [
      "epoch:   6%|████▍                                                                    | 3/50 [06:54<1:48:22, 138.36s/it]"
     ]
    },
    {
     "name": "stdout",
     "output_type": "stream",
     "text": [
      "\n",
      "Epoch 003 train_loss: 3.1145     val_loss 3.1117 train_acc 0.1073 val_acc 0.1074\n",
      "loss 3.1112815022536906\n"
     ]
    },
    {
     "name": "stderr",
     "output_type": "stream",
     "text": [
      "epoch:   8%|█████▊                                                                   | 4/50 [09:10<1:45:38, 137.80s/it]"
     ]
    },
    {
     "name": "stdout",
     "output_type": "stream",
     "text": [
      "\n",
      "Epoch 004 train_loss: 3.1113     val_loss 3.0968 train_acc 0.1071 val_acc 0.1122\n",
      "loss 2.8691961838186253\n"
     ]
    },
    {
     "name": "stderr",
     "output_type": "stream",
     "text": [
      "epoch:  10%|███████▎                                                                 | 5/50 [11:27<1:43:01, 137.37s/it]"
     ]
    },
    {
     "name": "stdout",
     "output_type": "stream",
     "text": [
      "\n",
      "Epoch 005 train_loss: 2.8692     val_loss 2.6575 train_acc 0.1780 val_acc 0.2308\n",
      "loss 2.16707685343953\n"
     ]
    },
    {
     "name": "stderr",
     "output_type": "stream",
     "text": [
      "epoch:  12%|████████▊                                                                | 6/50 [13:43<1:40:32, 137.10s/it]"
     ]
    },
    {
     "name": "stdout",
     "output_type": "stream",
     "text": [
      "\n",
      "Epoch 006 train_loss: 2.1671     val_loss 2.1306 train_acc 0.3863 val_acc 0.4306\n",
      "loss 1.6635380061889684\n"
     ]
    },
    {
     "name": "stderr",
     "output_type": "stream",
     "text": [
      "epoch:  14%|██████████▏                                                              | 7/50 [16:00<1:38:08, 136.93s/it]"
     ]
    },
    {
     "name": "stdout",
     "output_type": "stream",
     "text": [
      "\n",
      "Epoch 007 train_loss: 1.6635     val_loss 1.6268 train_acc 0.5316 val_acc 0.5443\n",
      "loss 1.3001001822856575\n"
     ]
    },
    {
     "name": "stderr",
     "output_type": "stream",
     "text": [
      "epoch:  16%|███████████▋                                                             | 8/50 [18:16<1:35:45, 136.80s/it]"
     ]
    },
    {
     "name": "stdout",
     "output_type": "stream",
     "text": [
      "\n",
      "Epoch 008 train_loss: 1.3001     val_loss 1.2091 train_acc 0.6320 val_acc 0.6693\n",
      "loss 1.044783101213822\n"
     ]
    },
    {
     "name": "stderr",
     "output_type": "stream",
     "text": [
      "epoch:  18%|█████████████▏                                                           | 9/50 [20:33<1:33:27, 136.77s/it]"
     ]
    },
    {
     "name": "stdout",
     "output_type": "stream",
     "text": [
      "\n",
      "Epoch 009 train_loss: 1.0448     val_loss 1.0836 train_acc 0.7037 val_acc 0.7084\n",
      "loss 0.837918158739006\n"
     ]
    },
    {
     "name": "stderr",
     "output_type": "stream",
     "text": [
      "epoch:  20%|██████████████▍                                                         | 10/50 [22:50<1:31:09, 136.73s/it]"
     ]
    },
    {
     "name": "stdout",
     "output_type": "stream",
     "text": [
      "\n",
      "Epoch 010 train_loss: 0.8379     val_loss 1.0124 train_acc 0.7597 val_acc 0.7310\n",
      "loss 0.6544448816041232\n"
     ]
    },
    {
     "name": "stderr",
     "output_type": "stream",
     "text": [
      "epoch:  22%|███████████████▊                                                        | 11/50 [25:06<1:28:46, 136.58s/it]"
     ]
    },
    {
     "name": "stdout",
     "output_type": "stream",
     "text": [
      "\n",
      "Epoch 011 train_loss: 0.6544     val_loss 0.8892 train_acc 0.8118 val_acc 0.7661\n",
      "loss 0.5010623423960097\n"
     ]
    },
    {
     "name": "stderr",
     "output_type": "stream",
     "text": [
      "epoch:  24%|█████████████████▎                                                      | 12/50 [27:22<1:26:25, 136.45s/it]"
     ]
    },
    {
     "name": "stdout",
     "output_type": "stream",
     "text": [
      "\n",
      "Epoch 012 train_loss: 0.5011     val_loss 0.9081 train_acc 0.8548 val_acc 0.7784\n",
      "loss 0.3859651130867639\n"
     ]
    },
    {
     "name": "stderr",
     "output_type": "stream",
     "text": [
      "epoch:  26%|██████████████████▋                                                     | 13/50 [29:38<1:24:04, 136.34s/it]"
     ]
    },
    {
     "name": "stdout",
     "output_type": "stream",
     "text": [
      "\n",
      "Epoch 013 train_loss: 0.3860     val_loss 0.9027 train_acc 0.8850 val_acc 0.7929\n",
      "loss 0.2725758070021885\n"
     ]
    },
    {
     "name": "stderr",
     "output_type": "stream",
     "text": [
      "epoch:  28%|████████████████████▏                                                   | 14/50 [31:54<1:21:47, 136.33s/it]"
     ]
    },
    {
     "name": "stdout",
     "output_type": "stream",
     "text": [
      "\n",
      "Epoch 014 train_loss: 0.2726     val_loss 0.9230 train_acc 0.9168 val_acc 0.8000\n",
      "loss 0.21182073842508906\n"
     ]
    },
    {
     "name": "stderr",
     "output_type": "stream",
     "text": [
      "epoch:  30%|█████████████████████▌                                                  | 15/50 [34:11<1:19:30, 136.30s/it]"
     ]
    },
    {
     "name": "stdout",
     "output_type": "stream",
     "text": [
      "\n",
      "Epoch 015 train_loss: 0.2118     val_loss 1.0074 train_acc 0.9359 val_acc 0.7965\n",
      "loss 0.17824491983109564\n"
     ]
    },
    {
     "name": "stderr",
     "output_type": "stream",
     "text": [
      "epoch:  32%|███████████████████████                                                 | 16/50 [36:27<1:17:12, 136.26s/it]"
     ]
    },
    {
     "name": "stdout",
     "output_type": "stream",
     "text": [
      "\n",
      "Epoch 016 train_loss: 0.1782     val_loss 1.0121 train_acc 0.9422 val_acc 0.7845\n",
      "loss 0.13630414825340723\n"
     ]
    },
    {
     "name": "stderr",
     "output_type": "stream",
     "text": [
      "epoch:  34%|████████████████████████▍                                               | 17/50 [38:43<1:14:58, 136.32s/it]"
     ]
    },
    {
     "name": "stdout",
     "output_type": "stream",
     "text": [
      "\n",
      "Epoch 017 train_loss: 0.1363     val_loss 1.0953 train_acc 0.9590 val_acc 0.8003\n",
      "loss 0.10529919026719817\n"
     ]
    },
    {
     "name": "stderr",
     "output_type": "stream",
     "text": [
      "epoch:  36%|█████████████████████████▉                                              | 18/50 [41:02<1:13:00, 136.89s/it]"
     ]
    },
    {
     "name": "stdout",
     "output_type": "stream",
     "text": [
      "\n",
      "Epoch 018 train_loss: 0.1053     val_loss 1.1200 train_acc 0.9659 val_acc 0.8078\n",
      "loss 0.10919305164405164\n"
     ]
    },
    {
     "name": "stderr",
     "output_type": "stream",
     "text": [
      "epoch:  38%|███████████████████████████▎                                            | 19/50 [43:19<1:10:51, 137.15s/it]"
     ]
    },
    {
     "name": "stdout",
     "output_type": "stream",
     "text": [
      "\n",
      "Epoch 019 train_loss: 0.1092     val_loss 1.1439 train_acc 0.9661 val_acc 0.8044\n"
     ]
    },
    {
     "name": "stderr",
     "output_type": "stream",
     "text": [
      "epoch:  38%|███████████████████████████▎                                            | 19/50 [44:51<1:13:10, 141.63s/it]\n"
     ]
    },
    {
     "ename": "KeyboardInterrupt",
     "evalue": "",
     "output_type": "error",
     "traceback": [
      "\u001b[1;31m---------------------------------------------------------------------------\u001b[0m",
      "\u001b[1;31mKeyboardInterrupt\u001b[0m                         Traceback (most recent call last)",
      "\u001b[1;32m<ipython-input-33-13ccaf313fb0>\u001b[0m in \u001b[0;36m<module>\u001b[1;34m\u001b[0m\n\u001b[1;32m----> 1\u001b[1;33m \u001b[0mhistory\u001b[0m \u001b[1;33m=\u001b[0m \u001b[0mtrain\u001b[0m\u001b[1;33m(\u001b[0m\u001b[0mtrain_dataset\u001b[0m\u001b[1;33m,\u001b[0m \u001b[0mval_dataset\u001b[0m\u001b[1;33m,\u001b[0m \u001b[0mmodel\u001b[0m\u001b[1;33m=\u001b[0m\u001b[0mmodel_resnet\u001b[0m\u001b[1;33m,\u001b[0m \u001b[0mepochs\u001b[0m\u001b[1;33m=\u001b[0m\u001b[1;36m50\u001b[0m\u001b[1;33m,\u001b[0m \u001b[0mbatch_size\u001b[0m\u001b[1;33m=\u001b[0m\u001b[1;36m64\u001b[0m\u001b[1;33m)\u001b[0m\u001b[1;33m\u001b[0m\u001b[1;33m\u001b[0m\u001b[0m\n\u001b[0m",
      "\u001b[1;32m<ipython-input-15-456b49c6577d>\u001b[0m in \u001b[0;36mtrain\u001b[1;34m(train_files, val_files, model, epochs, batch_size, pre_train)\u001b[0m\n\u001b[0;32m     14\u001b[0m \u001b[1;33m\u001b[0m\u001b[0m\n\u001b[0;32m     15\u001b[0m         \u001b[1;32mfor\u001b[0m \u001b[0mepoch\u001b[0m \u001b[1;32min\u001b[0m \u001b[0mrange\u001b[0m\u001b[1;33m(\u001b[0m\u001b[0mepochs\u001b[0m\u001b[1;33m)\u001b[0m\u001b[1;33m:\u001b[0m\u001b[1;33m\u001b[0m\u001b[1;33m\u001b[0m\u001b[0m\n\u001b[1;32m---> 16\u001b[1;33m             \u001b[0mtrain_loss\u001b[0m\u001b[1;33m,\u001b[0m \u001b[0mtrain_acc\u001b[0m \u001b[1;33m=\u001b[0m \u001b[0mfit_epoch\u001b[0m\u001b[1;33m(\u001b[0m\u001b[0mmodel\u001b[0m\u001b[1;33m,\u001b[0m \u001b[0mtrain_loader\u001b[0m\u001b[1;33m,\u001b[0m \u001b[0mcriterion\u001b[0m\u001b[1;33m,\u001b[0m \u001b[0mopt\u001b[0m\u001b[1;33m)\u001b[0m\u001b[1;33m\u001b[0m\u001b[1;33m\u001b[0m\u001b[0m\n\u001b[0m\u001b[0;32m     17\u001b[0m             \u001b[0mprint\u001b[0m\u001b[1;33m(\u001b[0m\u001b[1;34m\"loss\"\u001b[0m\u001b[1;33m,\u001b[0m \u001b[0mtrain_loss\u001b[0m\u001b[1;33m)\u001b[0m\u001b[1;33m\u001b[0m\u001b[1;33m\u001b[0m\u001b[0m\n\u001b[0;32m     18\u001b[0m \u001b[1;33m\u001b[0m\u001b[0m\n",
      "\u001b[1;32m<ipython-input-13-d25b80fa3fa8>\u001b[0m in \u001b[0;36mfit_epoch\u001b[1;34m(model, train_loader, criterion, optimizer)\u001b[0m\n\u001b[0;32m     15\u001b[0m         \u001b[0moptimizer\u001b[0m\u001b[1;33m.\u001b[0m\u001b[0mstep\u001b[0m\u001b[1;33m(\u001b[0m\u001b[1;33m)\u001b[0m\u001b[1;33m\u001b[0m\u001b[1;33m\u001b[0m\u001b[0m\n\u001b[0;32m     16\u001b[0m         \u001b[0mpreds\u001b[0m \u001b[1;33m=\u001b[0m \u001b[0mtorch\u001b[0m\u001b[1;33m.\u001b[0m\u001b[0margmax\u001b[0m\u001b[1;33m(\u001b[0m\u001b[0moutputs\u001b[0m\u001b[1;33m,\u001b[0m \u001b[1;36m1\u001b[0m\u001b[1;33m)\u001b[0m\u001b[1;33m\u001b[0m\u001b[1;33m\u001b[0m\u001b[0m\n\u001b[1;32m---> 17\u001b[1;33m         \u001b[0mrunning_loss\u001b[0m \u001b[1;33m+=\u001b[0m \u001b[0mloss\u001b[0m\u001b[1;33m.\u001b[0m\u001b[0mitem\u001b[0m\u001b[1;33m(\u001b[0m\u001b[1;33m)\u001b[0m \u001b[1;33m*\u001b[0m \u001b[0minputs\u001b[0m\u001b[1;33m.\u001b[0m\u001b[0msize\u001b[0m\u001b[1;33m(\u001b[0m\u001b[1;36m0\u001b[0m\u001b[1;33m)\u001b[0m\u001b[1;33m\u001b[0m\u001b[1;33m\u001b[0m\u001b[0m\n\u001b[0m\u001b[0;32m     18\u001b[0m         \u001b[0mrunning_corrects\u001b[0m \u001b[1;33m+=\u001b[0m \u001b[0mtorch\u001b[0m\u001b[1;33m.\u001b[0m\u001b[0msum\u001b[0m\u001b[1;33m(\u001b[0m\u001b[0mpreds\u001b[0m \u001b[1;33m==\u001b[0m \u001b[0mlabels\u001b[0m\u001b[1;33m.\u001b[0m\u001b[0mdata\u001b[0m\u001b[1;33m)\u001b[0m\u001b[1;33m\u001b[0m\u001b[1;33m\u001b[0m\u001b[0m\n\u001b[0;32m     19\u001b[0m         \u001b[0mprocessed_data\u001b[0m \u001b[1;33m+=\u001b[0m \u001b[0minputs\u001b[0m\u001b[1;33m.\u001b[0m\u001b[0msize\u001b[0m\u001b[1;33m(\u001b[0m\u001b[1;36m0\u001b[0m\u001b[1;33m)\u001b[0m\u001b[1;33m\u001b[0m\u001b[1;33m\u001b[0m\u001b[0m\n",
      "\u001b[1;31mKeyboardInterrupt\u001b[0m: "
     ]
    }
   ],
   "source": [
    "history = train(train_dataset, val_dataset, model=model_resnet, epochs=50, batch_size=64)"
   ]
  },
  {
   "cell_type": "code",
   "execution_count": 31,
   "metadata": {},
   "outputs": [],
   "source": [
    "for i, child in enumerate(model_resnet.children()):\n",
    "    if i not in [9]:\n",
    "        for param in child.parameters():\n",
    "            param.requires_grad = False\n",
    "\n",
    "model_resnet.fc = nn.Sequential(nn.Linear(512,42))"
   ]
  },
  {
   "cell_type": "code",
   "execution_count": null,
   "metadata": {},
   "outputs": [
    {
     "name": "stderr",
     "output_type": "stream",
     "text": [
      "\r",
      "epoch:   0%|                                                                                    | 0/50 [00:00<?, ?it/s]"
     ]
    },
    {
     "name": "stdout",
     "output_type": "stream",
     "text": [
      "loss 1.0565977375995916\n"
     ]
    },
    {
     "name": "stderr",
     "output_type": "stream",
     "text": [
      "epoch:   2%|█▍                                                                       | 1/50 [02:03<1:40:40, 123.28s/it]"
     ]
    },
    {
     "name": "stdout",
     "output_type": "stream",
     "text": [
      "\n",
      "Epoch 001 train_loss: 1.0566     val_loss 1.0678 train_acc 0.7332 val_acc 0.7214\n",
      "loss 0.9057391930844452\n"
     ]
    },
    {
     "name": "stderr",
     "output_type": "stream",
     "text": [
      "epoch:   4%|██▉                                                                      | 2/50 [04:05<1:38:19, 122.90s/it]"
     ]
    },
    {
     "name": "stdout",
     "output_type": "stream",
     "text": [
      "\n",
      "Epoch 002 train_loss: 0.9057     val_loss 1.0008 train_acc 0.7646 val_acc 0.7346\n",
      "loss 0.8222020943344486\n"
     ]
    },
    {
     "name": "stderr",
     "output_type": "stream",
     "text": [
      "epoch:   6%|████▍                                                                    | 3/50 [06:15<1:37:56, 125.02s/it]"
     ]
    },
    {
     "name": "stdout",
     "output_type": "stream",
     "text": [
      "\n",
      "Epoch 003 train_loss: 0.8222     val_loss 0.9531 train_acc 0.7823 val_acc 0.7484\n",
      "loss 0.7619480728093162\n"
     ]
    },
    {
     "name": "stderr",
     "output_type": "stream",
     "text": [
      "epoch:   8%|█████▊                                                                   | 4/50 [08:22<1:36:21, 125.69s/it]"
     ]
    },
    {
     "name": "stdout",
     "output_type": "stream",
     "text": [
      "\n",
      "Epoch 004 train_loss: 0.7619     val_loss 0.9206 train_acc 0.8001 val_acc 0.7541\n",
      "loss 0.7188648981261051\n"
     ]
    },
    {
     "name": "stderr",
     "output_type": "stream",
     "text": [
      "epoch:  10%|███████▎                                                                 | 5/50 [10:23<1:33:07, 124.17s/it]"
     ]
    },
    {
     "name": "stdout",
     "output_type": "stream",
     "text": [
      "\n",
      "Epoch 005 train_loss: 0.7189     val_loss 0.8944 train_acc 0.8091 val_acc 0.7581\n",
      "loss 0.6835893542229412\n"
     ]
    },
    {
     "name": "stderr",
     "output_type": "stream",
     "text": [
      "epoch:  12%|████████▊                                                                | 6/50 [12:22<1:30:00, 122.74s/it]"
     ]
    },
    {
     "name": "stdout",
     "output_type": "stream",
     "text": [
      "\n",
      "Epoch 006 train_loss: 0.6836     val_loss 0.8761 train_acc 0.8166 val_acc 0.7606\n",
      "loss 0.6567743268124776\n"
     ]
    },
    {
     "name": "stderr",
     "output_type": "stream",
     "text": [
      "epoch:  14%|██████████▏                                                              | 7/50 [14:22<1:27:15, 121.77s/it]"
     ]
    },
    {
     "name": "stdout",
     "output_type": "stream",
     "text": [
      "\n",
      "Epoch 007 train_loss: 0.6568     val_loss 0.8793 train_acc 0.8256 val_acc 0.7623\n",
      "loss 0.6329912861651452\n"
     ]
    },
    {
     "name": "stderr",
     "output_type": "stream",
     "text": [
      "epoch:  16%|███████████▋                                                             | 8/50 [16:22<1:24:53, 121.28s/it]"
     ]
    },
    {
     "name": "stdout",
     "output_type": "stream",
     "text": [
      "\n",
      "Epoch 008 train_loss: 0.6330     val_loss 0.8790 train_acc 0.8278 val_acc 0.7585\n",
      "loss 0.612430779793375\n"
     ]
    },
    {
     "name": "stderr",
     "output_type": "stream",
     "text": [
      "epoch:  18%|█████████████▏                                                           | 9/50 [18:22<1:22:37, 120.91s/it]"
     ]
    },
    {
     "name": "stdout",
     "output_type": "stream",
     "text": [
      "\n",
      "Epoch 009 train_loss: 0.6124     val_loss 0.8414 train_acc 0.8357 val_acc 0.7703\n"
     ]
    }
   ],
   "source": [
    "history = train(train_dataset, val_dataset, model=model_resnet, epochs=50, batch_size=64)"
   ]
  },
  {
   "cell_type": "code",
   "execution_count": 46,
   "metadata": {
    "execution": {
     "iopub.execute_input": "2020-12-02T14:40:49.234981Z",
     "iopub.status.busy": "2020-12-02T14:40:49.233803Z",
     "iopub.status.idle": "2020-12-02T15:02:30.071800Z",
     "shell.execute_reply": "2020-12-02T15:02:30.062507Z"
    },
    "papermill": {
     "duration": 1300.932762,
     "end_time": "2020-12-02T15:02:30.071990",
     "exception": false,
     "start_time": "2020-12-02T14:40:49.139228",
     "status": "completed"
    },
    "scrolled": true,
    "tags": []
   },
   "outputs": [
    {
     "name": "stderr",
     "output_type": "stream",
     "text": [
      "\r",
      "epoch:   0%|                                                                                     | 0/5 [00:00<?, ?it/s]"
     ]
    },
    {
     "name": "stdout",
     "output_type": "stream",
     "text": [
      "loss 2.3532303993098562\n"
     ]
    },
    {
     "name": "stderr",
     "output_type": "stream",
     "text": [
      "epoch:  20%|███████████████▏                                                            | 1/5 [03:00<12:01, 180.42s/it]"
     ]
    },
    {
     "name": "stdout",
     "output_type": "stream",
     "text": [
      "\n",
      "Epoch 001 train_loss: 2.3532     val_loss 1.0447 train_acc 0.4049 val_acc 0.7392\n",
      "loss 0.5646945716347753\n"
     ]
    },
    {
     "name": "stderr",
     "output_type": "stream",
     "text": [
      "epoch:  40%|██████████████████████████████▍                                             | 2/5 [05:57<08:58, 179.44s/it]"
     ]
    },
    {
     "name": "stdout",
     "output_type": "stream",
     "text": [
      "\n",
      "Epoch 002 train_loss: 0.5647     val_loss 0.6618 train_acc 0.8500 val_acc 0.8261\n",
      "loss 0.07562187531816698\n"
     ]
    },
    {
     "name": "stderr",
     "output_type": "stream",
     "text": [
      "epoch:  60%|█████████████████████████████████████████████▌                              | 3/5 [08:51<05:55, 177.80s/it]"
     ]
    },
    {
     "name": "stdout",
     "output_type": "stream",
     "text": [
      "\n",
      "Epoch 003 train_loss: 0.0756     val_loss 0.8568 train_acc 0.9796 val_acc 0.8170\n",
      "loss 0.01908964394859358\n"
     ]
    },
    {
     "name": "stderr",
     "output_type": "stream",
     "text": [
      "epoch:  80%|████████████████████████████████████████████████████████████▊               | 4/5 [11:43<02:56, 176.00s/it]"
     ]
    },
    {
     "name": "stdout",
     "output_type": "stream",
     "text": [
      "\n",
      "Epoch 004 train_loss: 0.0191     val_loss 0.8675 train_acc 0.9955 val_acc 0.8229\n",
      "loss 0.011026365557621187\n"
     ]
    },
    {
     "name": "stderr",
     "output_type": "stream",
     "text": [
      "epoch: 100%|████████████████████████████████████████████████████████████████████████████| 5/5 [14:34<00:00, 174.95s/it]"
     ]
    },
    {
     "name": "stdout",
     "output_type": "stream",
     "text": [
      "\n",
      "Epoch 005 train_loss: 0.0110     val_loss 0.8580 train_acc 0.9974 val_acc 0.8198\n"
     ]
    },
    {
     "name": "stderr",
     "output_type": "stream",
     "text": [
      "\n"
     ]
    }
   ],
   "source": [
    "#history = train(train_dataset, val_dataset, model=vgg, epochs=5, batch_size=64)\n"
   ]
  },
  {
   "cell_type": "code",
   "execution_count": null,
   "metadata": {},
   "outputs": [
    {
     "name": "stderr",
     "output_type": "stream",
     "text": [
      "\r",
      "epoch:   0%|                                                                                     | 0/5 [00:00<?, ?it/s]"
     ]
    },
    {
     "name": "stdout",
     "output_type": "stream",
     "text": [
      "loss 1.7213408381735886\n"
     ]
    },
    {
     "name": "stderr",
     "output_type": "stream",
     "text": [
      "epoch:  20%|███████████████▏                                                            | 1/5 [04:00<16:00, 240.04s/it]"
     ]
    },
    {
     "name": "stdout",
     "output_type": "stream",
     "text": [
      "\n",
      "Epoch 001 train_loss: 1.7213     val_loss 1.1367 train_acc 0.5931 val_acc 0.7197\n",
      "loss 0.9220855420535898\n"
     ]
    },
    {
     "name": "stderr",
     "output_type": "stream",
     "text": [
      "epoch:  40%|██████████████████████████████▍                                             | 2/5 [07:56<11:57, 239.06s/it]"
     ]
    },
    {
     "name": "stdout",
     "output_type": "stream",
     "text": [
      "\n",
      "Epoch 002 train_loss: 0.9221     val_loss 0.9349 train_acc 0.7670 val_acc 0.7646\n",
      "loss 0.7315791403687648\n"
     ]
    },
    {
     "name": "stderr",
     "output_type": "stream",
     "text": [
      "epoch:  60%|█████████████████████████████████████████████▌                              | 3/5 [12:50<08:30, 255.44s/it]"
     ]
    },
    {
     "name": "stdout",
     "output_type": "stream",
     "text": [
      "\n",
      "Epoch 003 train_loss: 0.7316     val_loss 0.8370 train_acc 0.8095 val_acc 0.7860\n"
     ]
    }
   ],
   "source": [
    "history = train(train_dataset, val_dataset, model=rnxt, epochs=5, batch_size=64)"
   ]
  },
  {
   "cell_type": "code",
   "execution_count": null,
   "metadata": {},
   "outputs": [],
   "source": [
    "history = train(train_dataset, val_dataset, model=rnxt, epochs=50, batch_size=64)"
   ]
  },
  {
   "cell_type": "code",
   "execution_count": 26,
   "metadata": {},
   "outputs": [
    {
     "name": "stderr",
     "output_type": "stream",
     "text": [
      "\r",
      "epoch:   0%|                                                                                    | 0/50 [00:00<?, ?it/s]"
     ]
    },
    {
     "name": "stdout",
     "output_type": "stream",
     "text": [
      "loss 1.6312202629872026\n"
     ]
    },
    {
     "name": "stderr",
     "output_type": "stream",
     "text": [
      "epoch:   2%|█▍                                                                       | 1/50 [02:26<1:59:42, 146.58s/it]"
     ]
    },
    {
     "name": "stdout",
     "output_type": "stream",
     "text": [
      "\n",
      "Epoch 001 train_loss: 1.6312     val_loss 1.3086 train_acc 0.6062 val_acc 0.6632\n",
      "loss 1.0833895719311817\n"
     ]
    },
    {
     "name": "stderr",
     "output_type": "stream",
     "text": [
      "epoch:   4%|██▉                                                                      | 2/50 [04:50<1:56:39, 145.83s/it]"
     ]
    },
    {
     "name": "stdout",
     "output_type": "stream",
     "text": [
      "\n",
      "Epoch 002 train_loss: 1.0834     val_loss 1.1361 train_acc 0.7230 val_acc 0.6947\n",
      "loss 0.8923971128734072\n"
     ]
    },
    {
     "name": "stderr",
     "output_type": "stream",
     "text": [
      "epoch:   6%|████▍                                                                    | 3/50 [07:15<1:53:53, 145.38s/it]"
     ]
    },
    {
     "name": "stdout",
     "output_type": "stream",
     "text": [
      "\n",
      "Epoch 003 train_loss: 0.8924     val_loss 1.0219 train_acc 0.7630 val_acc 0.7228\n",
      "loss 0.7830653422402306\n"
     ]
    },
    {
     "name": "stderr",
     "output_type": "stream",
     "text": [
      "epoch:   8%|█████▊                                                                   | 4/50 [10:25<2:01:48, 158.89s/it]"
     ]
    },
    {
     "name": "stdout",
     "output_type": "stream",
     "text": [
      "\n",
      "Epoch 004 train_loss: 0.7831     val_loss 0.9796 train_acc 0.7906 val_acc 0.7268\n",
      "loss 0.7124496080046345\n"
     ]
    },
    {
     "name": "stderr",
     "output_type": "stream",
     "text": [
      "epoch:  10%|███████▎                                                                 | 5/50 [12:57<1:57:35, 156.78s/it]"
     ]
    },
    {
     "name": "stdout",
     "output_type": "stream",
     "text": [
      "\n",
      "Epoch 005 train_loss: 0.7124     val_loss 0.9482 train_acc 0.8057 val_acc 0.7388\n",
      "loss 0.6624598184198139\n"
     ]
    },
    {
     "name": "stderr",
     "output_type": "stream",
     "text": [
      "epoch:  12%|████████▊                                                                | 6/50 [15:34<1:55:10, 157.07s/it]"
     ]
    },
    {
     "name": "stdout",
     "output_type": "stream",
     "text": [
      "\n",
      "Epoch 006 train_loss: 0.6625     val_loss 0.9186 train_acc 0.8188 val_acc 0.7472\n",
      "loss 0.614097520529643\n"
     ]
    },
    {
     "name": "stderr",
     "output_type": "stream",
     "text": [
      "epoch:  14%|██████████▏                                                              | 7/50 [18:16<1:53:37, 158.55s/it]"
     ]
    },
    {
     "name": "stdout",
     "output_type": "stream",
     "text": [
      "\n",
      "Epoch 007 train_loss: 0.6141     val_loss 0.9206 train_acc 0.8316 val_acc 0.7461\n",
      "loss 0.5780855199168219\n"
     ]
    },
    {
     "name": "stderr",
     "output_type": "stream",
     "text": [
      "epoch:  16%|███████████▋                                                             | 8/50 [20:58<1:51:35, 159.41s/it]"
     ]
    },
    {
     "name": "stdout",
     "output_type": "stream",
     "text": [
      "\n",
      "Epoch 008 train_loss: 0.5781     val_loss 0.8944 train_acc 0.8413 val_acc 0.7553\n",
      "loss 0.5430636395465888\n"
     ]
    },
    {
     "name": "stderr",
     "output_type": "stream",
     "text": [
      "epoch:  18%|█████████████▏                                                           | 9/50 [23:40<1:49:25, 160.15s/it]"
     ]
    },
    {
     "name": "stdout",
     "output_type": "stream",
     "text": [
      "\n",
      "Epoch 009 train_loss: 0.5431     val_loss 0.8870 train_acc 0.8539 val_acc 0.7535\n",
      "loss 0.5170986764244505\n"
     ]
    },
    {
     "name": "stderr",
     "output_type": "stream",
     "text": [
      "epoch:  20%|██████████████▍                                                         | 10/50 [26:20<1:46:52, 160.31s/it]"
     ]
    },
    {
     "name": "stdout",
     "output_type": "stream",
     "text": [
      "\n",
      "Epoch 010 train_loss: 0.5171     val_loss 0.8772 train_acc 0.8587 val_acc 0.7535\n",
      "loss 0.4897107093742269\n"
     ]
    },
    {
     "name": "stderr",
     "output_type": "stream",
     "text": [
      "epoch:  22%|███████████████▊                                                        | 11/50 [29:03<1:44:35, 160.92s/it]"
     ]
    },
    {
     "name": "stdout",
     "output_type": "stream",
     "text": [
      "\n",
      "Epoch 011 train_loss: 0.4897     val_loss 0.8615 train_acc 0.8675 val_acc 0.7618\n",
      "loss 0.4733717509406153\n"
     ]
    },
    {
     "name": "stderr",
     "output_type": "stream",
     "text": [
      "epoch:  24%|█████████████████▎                                                      | 12/50 [31:46<1:42:18, 161.54s/it]"
     ]
    },
    {
     "name": "stdout",
     "output_type": "stream",
     "text": [
      "\n",
      "Epoch 012 train_loss: 0.4734     val_loss 0.8995 train_acc 0.8715 val_acc 0.7537\n",
      "loss 0.45267709066468564\n"
     ]
    },
    {
     "name": "stderr",
     "output_type": "stream",
     "text": [
      "epoch:  26%|██████████████████▋                                                     | 13/50 [34:30<1:40:02, 162.23s/it]"
     ]
    },
    {
     "name": "stdout",
     "output_type": "stream",
     "text": [
      "\n",
      "Epoch 013 train_loss: 0.4527     val_loss 0.8657 train_acc 0.8763 val_acc 0.7608\n",
      "loss 0.43062754514809815\n"
     ]
    },
    {
     "name": "stderr",
     "output_type": "stream",
     "text": [
      "epoch:  28%|████████████████████▏                                                   | 14/50 [37:10<1:37:00, 161.67s/it]"
     ]
    },
    {
     "name": "stdout",
     "output_type": "stream",
     "text": [
      "\n",
      "Epoch 014 train_loss: 0.4306     val_loss 0.8843 train_acc 0.8826 val_acc 0.7604\n",
      "loss 0.4182810934837232\n"
     ]
    },
    {
     "name": "stderr",
     "output_type": "stream",
     "text": [
      "epoch:  30%|█████████████████████▌                                                  | 15/50 [39:50<1:34:02, 161.21s/it]"
     ]
    },
    {
     "name": "stdout",
     "output_type": "stream",
     "text": [
      "\n",
      "Epoch 015 train_loss: 0.4183     val_loss 0.8846 train_acc 0.8885 val_acc 0.7633\n",
      "loss 0.4055487447450841\n"
     ]
    },
    {
     "name": "stderr",
     "output_type": "stream",
     "text": [
      "epoch:  32%|███████████████████████                                                 | 16/50 [42:31<1:31:19, 161.17s/it]"
     ]
    },
    {
     "name": "stdout",
     "output_type": "stream",
     "text": [
      "\n",
      "Epoch 016 train_loss: 0.4055     val_loss 0.8696 train_acc 0.8909 val_acc 0.7650\n",
      "loss 0.3858811286852856\n"
     ]
    },
    {
     "name": "stderr",
     "output_type": "stream",
     "text": [
      "epoch:  34%|████████████████████████▍                                               | 17/50 [45:13<1:28:47, 161.45s/it]"
     ]
    },
    {
     "name": "stdout",
     "output_type": "stream",
     "text": [
      "\n",
      "Epoch 017 train_loss: 0.3859     val_loss 0.8613 train_acc 0.8971 val_acc 0.7715\n",
      "loss 0.37380106848617656\n"
     ]
    },
    {
     "name": "stderr",
     "output_type": "stream",
     "text": [
      "epoch:  36%|█████████████████████████▉                                              | 18/50 [47:57<1:26:27, 162.09s/it]"
     ]
    },
    {
     "name": "stdout",
     "output_type": "stream",
     "text": [
      "\n",
      "Epoch 018 train_loss: 0.3738     val_loss 0.8518 train_acc 0.8991 val_acc 0.7768\n",
      "loss 0.3601842426507289\n"
     ]
    },
    {
     "name": "stderr",
     "output_type": "stream",
     "text": [
      "epoch:  38%|███████████████████████████▎                                            | 19/50 [50:36<1:23:19, 161.28s/it]"
     ]
    },
    {
     "name": "stdout",
     "output_type": "stream",
     "text": [
      "\n",
      "Epoch 019 train_loss: 0.3602     val_loss 0.8472 train_acc 0.9031 val_acc 0.7709\n",
      "loss 0.3506504176653785\n"
     ]
    },
    {
     "name": "stderr",
     "output_type": "stream",
     "text": [
      "epoch:  40%|████████████████████████████▊                                           | 20/50 [53:00<1:18:01, 156.06s/it]"
     ]
    },
    {
     "name": "stdout",
     "output_type": "stream",
     "text": [
      "\n",
      "Epoch 020 train_loss: 0.3507     val_loss 0.8734 train_acc 0.9066 val_acc 0.7705\n",
      "loss 0.3338213403370435\n"
     ]
    },
    {
     "name": "stderr",
     "output_type": "stream",
     "text": [
      "epoch:  42%|██████████████████████████████▏                                         | 21/50 [55:24<1:13:41, 152.45s/it]"
     ]
    },
    {
     "name": "stdout",
     "output_type": "stream",
     "text": [
      "\n",
      "Epoch 021 train_loss: 0.3338     val_loss 0.8444 train_acc 0.9146 val_acc 0.7786\n",
      "loss 0.3244652005403814\n"
     ]
    },
    {
     "name": "stderr",
     "output_type": "stream",
     "text": [
      "epoch:  44%|███████████████████████████████▋                                        | 22/50 [57:48<1:09:57, 149.90s/it]"
     ]
    },
    {
     "name": "stdout",
     "output_type": "stream",
     "text": [
      "\n",
      "Epoch 022 train_loss: 0.3245     val_loss 0.8858 train_acc 0.9170 val_acc 0.7661\n",
      "loss 0.31609036131845675\n"
     ]
    },
    {
     "name": "stderr",
     "output_type": "stream",
     "text": [
      "epoch:  46%|████████████████████████████████▏                                     | 23/50 [1:00:12<1:06:40, 148.18s/it]"
     ]
    },
    {
     "name": "stdout",
     "output_type": "stream",
     "text": [
      "\n",
      "Epoch 023 train_loss: 0.3161     val_loss 0.8507 train_acc 0.9164 val_acc 0.7780\n",
      "loss 0.3050520760051399\n"
     ]
    },
    {
     "name": "stderr",
     "output_type": "stream",
     "text": [
      "epoch:  48%|█████████████████████████████████▌                                    | 24/50 [1:02:37<1:03:42, 147.02s/it]"
     ]
    },
    {
     "name": "stdout",
     "output_type": "stream",
     "text": [
      "\n",
      "Epoch 024 train_loss: 0.3051     val_loss 0.8468 train_acc 0.9255 val_acc 0.7786\n",
      "loss 0.2947405324566022\n"
     ]
    },
    {
     "name": "stderr",
     "output_type": "stream",
     "text": [
      "epoch:  50%|███████████████████████████████████                                   | 25/50 [1:05:01<1:00:54, 146.18s/it]"
     ]
    },
    {
     "name": "stdout",
     "output_type": "stream",
     "text": [
      "\n",
      "Epoch 025 train_loss: 0.2947     val_loss 0.8624 train_acc 0.9271 val_acc 0.7761\n",
      "loss 0.2895707824088349\n"
     ]
    },
    {
     "name": "stderr",
     "output_type": "stream",
     "text": [
      "epoch:  52%|█████████████████████████████████████▍                                  | 26/50 [1:07:26<58:18, 145.78s/it]"
     ]
    },
    {
     "name": "stdout",
     "output_type": "stream",
     "text": [
      "\n",
      "Epoch 026 train_loss: 0.2896     val_loss 0.8514 train_acc 0.9263 val_acc 0.7797\n",
      "loss 0.2823615055439905\n"
     ]
    },
    {
     "name": "stderr",
     "output_type": "stream",
     "text": [
      "epoch:  54%|██████████████████████████████████████▉                                 | 27/50 [1:09:51<55:52, 145.78s/it]"
     ]
    },
    {
     "name": "stdout",
     "output_type": "stream",
     "text": [
      "\n",
      "Epoch 027 train_loss: 0.2824     val_loss 0.8983 train_acc 0.9289 val_acc 0.7675\n",
      "loss 0.2721422754512394\n"
     ]
    },
    {
     "name": "stderr",
     "output_type": "stream",
     "text": [
      "epoch:  56%|████████████████████████████████████████▎                               | 28/50 [1:12:15<53:15, 145.24s/it]"
     ]
    },
    {
     "name": "stdout",
     "output_type": "stream",
     "text": [
      "\n",
      "Epoch 028 train_loss: 0.2721     val_loss 0.8624 train_acc 0.9310 val_acc 0.7814\n",
      "loss 0.2689346423729399\n"
     ]
    },
    {
     "name": "stderr",
     "output_type": "stream",
     "text": [
      "epoch:  58%|█████████████████████████████████████████▊                              | 29/50 [1:14:40<50:45, 145.04s/it]"
     ]
    },
    {
     "name": "stdout",
     "output_type": "stream",
     "text": [
      "\n",
      "Epoch 029 train_loss: 0.2689     val_loss 0.8876 train_acc 0.9306 val_acc 0.7709\n",
      "loss 0.25739489324617265\n"
     ]
    },
    {
     "name": "stderr",
     "output_type": "stream",
     "text": [
      "epoch:  60%|███████████████████████████████████████████▏                            | 30/50 [1:17:05<48:18, 144.90s/it]"
     ]
    },
    {
     "name": "stdout",
     "output_type": "stream",
     "text": [
      "\n",
      "Epoch 030 train_loss: 0.2574     val_loss 0.8943 train_acc 0.9373 val_acc 0.7684\n",
      "loss 0.25102756290828676\n"
     ]
    },
    {
     "name": "stderr",
     "output_type": "stream",
     "text": [
      "epoch:  62%|████████████████████████████████████████████▋                           | 31/50 [1:19:31<46:01, 145.34s/it]"
     ]
    },
    {
     "name": "stdout",
     "output_type": "stream",
     "text": [
      "\n",
      "Epoch 031 train_loss: 0.2510     val_loss 0.8772 train_acc 0.9390 val_acc 0.7755\n",
      "loss 0.2455596449001328\n"
     ]
    },
    {
     "name": "stderr",
     "output_type": "stream",
     "text": [
      "epoch:  64%|██████████████████████████████████████████████                          | 32/50 [1:22:04<44:15, 147.53s/it]"
     ]
    },
    {
     "name": "stdout",
     "output_type": "stream",
     "text": [
      "\n",
      "Epoch 032 train_loss: 0.2456     val_loss 0.9184 train_acc 0.9411 val_acc 0.7692\n",
      "loss 0.2395555383271112\n"
     ]
    },
    {
     "name": "stderr",
     "output_type": "stream",
     "text": [
      "epoch:  66%|███████████████████████████████████████████████▌                        | 33/50 [1:24:32<41:51, 147.75s/it]"
     ]
    },
    {
     "name": "stdout",
     "output_type": "stream",
     "text": [
      "\n",
      "Epoch 033 train_loss: 0.2396     val_loss 0.9142 train_acc 0.9410 val_acc 0.7719\n",
      "loss 0.23386235564094765\n"
     ]
    },
    {
     "name": "stderr",
     "output_type": "stream",
     "text": [
      "epoch:  68%|████████████████████████████████████████████████▉                       | 34/50 [1:27:01<39:29, 148.10s/it]"
     ]
    },
    {
     "name": "stdout",
     "output_type": "stream",
     "text": [
      "\n",
      "Epoch 034 train_loss: 0.2339     val_loss 0.9272 train_acc 0.9437 val_acc 0.7631\n",
      "loss 0.22576791982231903\n"
     ]
    },
    {
     "name": "stderr",
     "output_type": "stream",
     "text": [
      "epoch:  70%|██████████████████████████████████████████████████▍                     | 35/50 [1:29:31<37:11, 148.75s/it]"
     ]
    },
    {
     "name": "stdout",
     "output_type": "stream",
     "text": [
      "\n",
      "Epoch 035 train_loss: 0.2258     val_loss 0.8816 train_acc 0.9460 val_acc 0.7824\n",
      "loss 0.22664180691093844\n"
     ]
    },
    {
     "name": "stderr",
     "output_type": "stream",
     "text": [
      "epoch:  72%|███████████████████████████████████████████████████▊                    | 36/50 [1:32:01<34:46, 149.01s/it]"
     ]
    },
    {
     "name": "stdout",
     "output_type": "stream",
     "text": [
      "\n",
      "Epoch 036 train_loss: 0.2266     val_loss 0.9037 train_acc 0.9455 val_acc 0.7788\n",
      "loss 0.21919356905105683\n"
     ]
    },
    {
     "name": "stderr",
     "output_type": "stream",
     "text": [
      "epoch:  74%|█████████████████████████████████████████████████████▎                  | 37/50 [1:34:30<32:19, 149.16s/it]"
     ]
    },
    {
     "name": "stdout",
     "output_type": "stream",
     "text": [
      "\n",
      "Epoch 037 train_loss: 0.2192     val_loss 0.9037 train_acc 0.9483 val_acc 0.7749\n",
      "loss 0.21111467099564116\n"
     ]
    },
    {
     "name": "stderr",
     "output_type": "stream",
     "text": [
      "epoch:  76%|██████████████████████████████████████████████████████▋                 | 38/50 [1:37:00<29:52, 149.35s/it]"
     ]
    },
    {
     "name": "stdout",
     "output_type": "stream",
     "text": [
      "\n",
      "Epoch 038 train_loss: 0.2111     val_loss 0.9184 train_acc 0.9502 val_acc 0.7810\n",
      "loss 0.208599846618131\n"
     ]
    },
    {
     "name": "stderr",
     "output_type": "stream",
     "text": [
      "epoch:  78%|████████████████████████████████████████████████████████▏               | 39/50 [1:39:31<27:29, 149.96s/it]"
     ]
    },
    {
     "name": "stdout",
     "output_type": "stream",
     "text": [
      "\n",
      "Epoch 039 train_loss: 0.2086     val_loss 0.8932 train_acc 0.9509 val_acc 0.7816\n",
      "loss 0.20151292100758514\n"
     ]
    },
    {
     "name": "stderr",
     "output_type": "stream",
     "text": [
      "epoch:  80%|█████████████████████████████████████████████████████████▌              | 40/50 [1:42:05<25:10, 151.07s/it]"
     ]
    },
    {
     "name": "stdout",
     "output_type": "stream",
     "text": [
      "\n",
      "Epoch 040 train_loss: 0.2015     val_loss 0.9210 train_acc 0.9543 val_acc 0.7761\n",
      "loss 0.1962381988741029\n"
     ]
    },
    {
     "name": "stderr",
     "output_type": "stream",
     "text": [
      "epoch:  82%|███████████████████████████████████████████████████████████             | 41/50 [1:44:38<22:45, 151.71s/it]"
     ]
    },
    {
     "name": "stdout",
     "output_type": "stream",
     "text": [
      "\n",
      "Epoch 041 train_loss: 0.1962     val_loss 0.8937 train_acc 0.9565 val_acc 0.7831\n",
      "loss 0.19007963163471958\n"
     ]
    },
    {
     "name": "stderr",
     "output_type": "stream",
     "text": [
      "epoch:  84%|████████████████████████████████████████████████████████████▍           | 42/50 [1:47:11<20:16, 152.11s/it]"
     ]
    },
    {
     "name": "stdout",
     "output_type": "stream",
     "text": [
      "\n",
      "Epoch 042 train_loss: 0.1901     val_loss 0.9232 train_acc 0.9571 val_acc 0.7713\n",
      "loss 0.188234114996779\n"
     ]
    },
    {
     "name": "stderr",
     "output_type": "stream",
     "text": [
      "epoch:  86%|█████████████████████████████████████████████████████████████▉          | 43/50 [1:49:44<17:46, 152.36s/it]"
     ]
    },
    {
     "name": "stdout",
     "output_type": "stream",
     "text": [
      "\n",
      "Epoch 043 train_loss: 0.1882     val_loss 0.9377 train_acc 0.9580 val_acc 0.7746\n",
      "loss 0.18384140655156328\n"
     ]
    },
    {
     "name": "stderr",
     "output_type": "stream",
     "text": [
      "epoch:  88%|███████████████████████████████████████████████████████████████▎        | 44/50 [1:52:18<15:16, 152.74s/it]"
     ]
    },
    {
     "name": "stdout",
     "output_type": "stream",
     "text": [
      "\n",
      "Epoch 044 train_loss: 0.1838     val_loss 0.9331 train_acc 0.9597 val_acc 0.7749\n",
      "loss 0.17659652685882166\n"
     ]
    },
    {
     "name": "stderr",
     "output_type": "stream",
     "text": [
      "epoch:  90%|████████████████████████████████████████████████████████████████▊       | 45/50 [1:54:53<12:46, 153.32s/it]"
     ]
    },
    {
     "name": "stdout",
     "output_type": "stream",
     "text": [
      "\n",
      "Epoch 045 train_loss: 0.1766     val_loss 0.9173 train_acc 0.9634 val_acc 0.7772\n",
      "loss 0.17649300290988626\n"
     ]
    },
    {
     "name": "stderr",
     "output_type": "stream",
     "text": [
      "epoch:  92%|██████████████████████████████████████████████████████████████████▏     | 46/50 [1:57:28<10:16, 154.02s/it]"
     ]
    },
    {
     "name": "stdout",
     "output_type": "stream",
     "text": [
      "\n",
      "Epoch 046 train_loss: 0.1765     val_loss 0.9664 train_acc 0.9627 val_acc 0.7696\n",
      "loss 0.1752818786720727\n"
     ]
    },
    {
     "name": "stderr",
     "output_type": "stream",
     "text": [
      "epoch:  94%|███████████████████████████████████████████████████████████████████▋    | 47/50 [2:00:04<07:43, 154.43s/it]"
     ]
    },
    {
     "name": "stdout",
     "output_type": "stream",
     "text": [
      "\n",
      "Epoch 047 train_loss: 0.1753     val_loss 0.9184 train_acc 0.9626 val_acc 0.7824\n",
      "loss 0.16476403441368162\n"
     ]
    },
    {
     "name": "stderr",
     "output_type": "stream",
     "text": [
      "epoch:  96%|█████████████████████████████████████████████████████████████████████   | 48/50 [2:02:39<05:09, 154.65s/it]"
     ]
    },
    {
     "name": "stdout",
     "output_type": "stream",
     "text": [
      "\n",
      "Epoch 048 train_loss: 0.1648     val_loss 0.9296 train_acc 0.9662 val_acc 0.7768\n",
      "loss 0.1636537962386514\n"
     ]
    },
    {
     "name": "stderr",
     "output_type": "stream",
     "text": [
      "epoch:  98%|██████████████████████████████████████████████████████████████████████▌ | 49/50 [2:05:13<02:34, 154.52s/it]"
     ]
    },
    {
     "name": "stdout",
     "output_type": "stream",
     "text": [
      "\n",
      "Epoch 049 train_loss: 0.1637     val_loss 0.9465 train_acc 0.9650 val_acc 0.7757\n",
      "loss 0.1599572769530116\n"
     ]
    },
    {
     "name": "stderr",
     "output_type": "stream",
     "text": [
      "epoch: 100%|████████████████████████████████████████████████████████████████████████| 50/50 [2:07:46<00:00, 153.33s/it]"
     ]
    },
    {
     "name": "stdout",
     "output_type": "stream",
     "text": [
      "\n",
      "Epoch 050 train_loss: 0.1600     val_loss 0.9339 train_acc 0.9678 val_acc 0.7807\n"
     ]
    },
    {
     "name": "stderr",
     "output_type": "stream",
     "text": [
      "\n"
     ]
    }
   ],
   "source": [
    "history = train(train_dataset, val_dataset, model=rnxt50, epochs=50, batch_size=64)"
   ]
  },
  {
   "cell_type": "markdown",
   "metadata": {
    "papermill": {
     "duration": 0.101947,
     "end_time": "2020-12-02T15:02:30.277374",
     "exception": false,
     "start_time": "2020-12-02T15:02:30.175427",
     "status": "completed"
    },
    "tags": []
   },
   "source": [
    "Смотрим на изменение лосса по эпохам"
   ]
  },
  {
   "cell_type": "code",
   "execution_count": 50,
   "metadata": {
    "execution": {
     "iopub.execute_input": "2020-12-02T15:02:30.498256Z",
     "iopub.status.busy": "2020-12-02T15:02:30.497249Z",
     "iopub.status.idle": "2020-12-02T15:02:30.702219Z",
     "shell.execute_reply": "2020-12-02T15:02:30.702761Z"
    },
    "papermill": {
     "duration": 0.323408,
     "end_time": "2020-12-02T15:02:30.702931",
     "exception": false,
     "start_time": "2020-12-02T15:02:30.379523",
     "status": "completed"
    },
    "tags": []
   },
   "outputs": [
    {
     "data": {
      "image/png": "[encoded data removed]",
      "text/plain": [
       "<Figure size 1080x648 with 1 Axes>"
      ]
     },
     "metadata": {
      "needs_background": "light"
     },
     "output_type": "display_data"
    }
   ],
   "source": [
    "loss, acc, val_loss, val_acc = zip(*history)\n",
    "\n",
    "plt.figure(figsize=(15, 9))\n",
    "plt.plot(loss, label=\"train_loss\")\n",
    "plt.plot(val_loss, label=\"val_loss\")\n",
    "plt.legend(loc='best')\n",
    "plt.xlabel(\"epochs\")\n",
    "plt.ylabel(\"loss\")\n",
    "plt.show()"
   ]
  },
  {
   "cell_type": "markdown",
   "metadata": {
    "papermill": {
     "duration": 0.111645,
     "end_time": "2020-12-02T15:02:30.928473",
     "exception": false,
     "start_time": "2020-12-02T15:02:30.816828",
     "status": "completed"
    },
    "tags": []
   },
   "source": [
    "Сделаем оценку f1 score на 1000 случайных картинках из валиационного датасета"
   ]
  },
  {
   "cell_type": "code",
   "execution_count": 57,
   "metadata": {
    "execution": {
     "iopub.execute_input": "2020-12-02T15:02:31.164759Z",
     "iopub.status.busy": "2020-12-02T15:02:31.163982Z",
     "iopub.status.idle": "2020-12-02T15:02:31.167940Z",
     "shell.execute_reply": "2020-12-02T15:02:31.167155Z"
    },
    "papermill": {
     "duration": 0.125755,
     "end_time": "2020-12-02T15:02:31.168047",
     "exception": false,
     "start_time": "2020-12-02T15:02:31.042292",
     "status": "completed"
    },
    "tags": []
   },
   "outputs": [],
   "source": [
    "from sklearn.metrics import f1_score \n",
    "def make_f1_score(model, n=1000):\n",
    "    \n",
    "    idxs = list(map(int, np.random.uniform(0,n, n)))\n",
    "    imgs = [val_dataset[id][0].unsqueeze(0) for id in idxs]\n",
    "\n",
    "    probs_ims = predict(model, imgs)\n",
    "    y_pred = np.argmax(probs_ims,-1)\n",
    "\n",
    "    actual_labels = [val_dataset[id][1] for id in idxs]\n",
    "    preds_class = list(y_pred)\n",
    "\n",
    "    return f1_score(actual_labels, preds_class, average='micro')"
   ]
  },
  {
   "cell_type": "code",
   "execution_count": 55,
   "metadata": {
    "execution": {
     "iopub.execute_input": "2020-12-02T15:02:31.385896Z",
     "iopub.status.busy": "2020-12-02T15:02:31.385095Z",
     "iopub.status.idle": "2020-12-02T15:02:53.978248Z",
     "shell.execute_reply": "2020-12-02T15:02:53.977291Z"
    },
    "papermill": {
     "duration": 22.707504,
     "end_time": "2020-12-02T15:02:53.978382",
     "exception": false,
     "start_time": "2020-12-02T15:02:31.270878",
     "status": "completed"
    },
    "tags": []
   },
   "outputs": [
    {
     "ename": "KeyboardInterrupt",
     "evalue": "",
     "output_type": "error",
     "traceback": [
      "\u001b[1;31m---------------------------------------------------------------------------\u001b[0m",
      "\u001b[1;31mKeyboardInterrupt\u001b[0m                         Traceback (most recent call last)",
      "\u001b[1;32m<ipython-input-55-bd600e26cc68>\u001b[0m in \u001b[0;36m<module>\u001b[1;34m\u001b[0m\n\u001b[1;32m----> 1\u001b[1;33m \u001b[0mmake_f1_score\u001b[0m\u001b[1;33m(\u001b[0m\u001b[0mmodel_resnet\u001b[0m\u001b[1;33m)\u001b[0m\u001b[1;33m\u001b[0m\u001b[1;33m\u001b[0m\u001b[0m\n\u001b[0m",
      "\u001b[1;32m<ipython-input-51-4a330438c8e7>\u001b[0m in \u001b[0;36mmake_f1_score\u001b[1;34m(model, n)\u001b[0m\n\u001b[0;32m      5\u001b[0m     \u001b[0mimgs\u001b[0m \u001b[1;33m=\u001b[0m \u001b[1;33m[\u001b[0m\u001b[0mval_dataset\u001b[0m\u001b[1;33m[\u001b[0m\u001b[0mid\u001b[0m\u001b[1;33m]\u001b[0m\u001b[1;33m[\u001b[0m\u001b[1;36m0\u001b[0m\u001b[1;33m]\u001b[0m\u001b[1;33m.\u001b[0m\u001b[0munsqueeze\u001b[0m\u001b[1;33m(\u001b[0m\u001b[1;36m0\u001b[0m\u001b[1;33m)\u001b[0m \u001b[1;32mfor\u001b[0m \u001b[0mid\u001b[0m \u001b[1;32min\u001b[0m \u001b[0midxs\u001b[0m\u001b[1;33m]\u001b[0m\u001b[1;33m\u001b[0m\u001b[1;33m\u001b[0m\u001b[0m\n\u001b[0;32m      6\u001b[0m \u001b[1;33m\u001b[0m\u001b[0m\n\u001b[1;32m----> 7\u001b[1;33m     \u001b[0mprobs_ims\u001b[0m \u001b[1;33m=\u001b[0m \u001b[0mpredict\u001b[0m\u001b[1;33m(\u001b[0m\u001b[0mmodel\u001b[0m\u001b[1;33m,\u001b[0m \u001b[0mimgs\u001b[0m\u001b[1;33m)\u001b[0m\u001b[1;33m\u001b[0m\u001b[1;33m\u001b[0m\u001b[0m\n\u001b[0m\u001b[0;32m      8\u001b[0m     \u001b[0my_pred\u001b[0m \u001b[1;33m=\u001b[0m \u001b[0mnp\u001b[0m\u001b[1;33m.\u001b[0m\u001b[0margmax\u001b[0m\u001b[1;33m(\u001b[0m\u001b[0mprobs_ims\u001b[0m\u001b[1;33m,\u001b[0m\u001b[1;33m-\u001b[0m\u001b[1;36m1\u001b[0m\u001b[1;33m)\u001b[0m\u001b[1;33m\u001b[0m\u001b[1;33m\u001b[0m\u001b[0m\n\u001b[0;32m      9\u001b[0m \u001b[1;33m\u001b[0m\u001b[0m\n",
      "\u001b[1;32m<ipython-input-16-4abaea0b690f>\u001b[0m in \u001b[0;36mpredict\u001b[1;34m(model, test_loader)\u001b[0m\n\u001b[0;32m      6\u001b[0m             \u001b[0minputs\u001b[0m \u001b[1;33m=\u001b[0m \u001b[0minputs\u001b[0m\u001b[1;33m.\u001b[0m\u001b[0mto\u001b[0m\u001b[1;33m(\u001b[0m\u001b[0mDEVICE\u001b[0m\u001b[1;33m)\u001b[0m\u001b[1;33m\u001b[0m\u001b[1;33m\u001b[0m\u001b[0m\n\u001b[0;32m      7\u001b[0m             \u001b[0mmodel\u001b[0m\u001b[1;33m.\u001b[0m\u001b[0meval\u001b[0m\u001b[1;33m(\u001b[0m\u001b[1;33m)\u001b[0m\u001b[1;33m\u001b[0m\u001b[1;33m\u001b[0m\u001b[0m\n\u001b[1;32m----> 8\u001b[1;33m             \u001b[0moutputs\u001b[0m \u001b[1;33m=\u001b[0m \u001b[0mmodel\u001b[0m\u001b[1;33m(\u001b[0m\u001b[0minputs\u001b[0m\u001b[1;33m)\u001b[0m\u001b[1;33m.\u001b[0m\u001b[0mcpu\u001b[0m\u001b[1;33m(\u001b[0m\u001b[1;33m)\u001b[0m\u001b[1;33m\u001b[0m\u001b[1;33m\u001b[0m\u001b[0m\n\u001b[0m\u001b[0;32m      9\u001b[0m             \u001b[0mlogits\u001b[0m\u001b[1;33m.\u001b[0m\u001b[0mappend\u001b[0m\u001b[1;33m(\u001b[0m\u001b[0moutputs\u001b[0m\u001b[1;33m)\u001b[0m\u001b[1;33m\u001b[0m\u001b[1;33m\u001b[0m\u001b[0m\n\u001b[0;32m     10\u001b[0m \u001b[1;33m\u001b[0m\u001b[0m\n",
      "\u001b[1;31mKeyboardInterrupt\u001b[0m: "
     ]
    }
   ],
   "source": [
    "make_f1_score(model_resnet)"
   ]
  },
  {
   "cell_type": "code",
   "execution_count": 58,
   "metadata": {},
   "outputs": [],
   "source": [
    "label_encoder = pickle.load(open(\"label_encoder.pkl\", 'rb'))"
   ]
  },
  {
   "cell_type": "markdown",
   "metadata": {
    "papermill": {
     "duration": 0.099896,
     "end_time": "2020-12-02T15:02:54.179834",
     "exception": false,
     "start_time": "2020-12-02T15:02:54.079938",
     "status": "completed"
    },
    "tags": []
   },
   "source": [
    "Делаем предсказания на тестовых данных"
   ]
  },
  {
   "cell_type": "code",
   "execution_count": 59,
   "metadata": {
    "execution": {
     "iopub.execute_input": "2020-12-02T15:02:54.389998Z",
     "iopub.status.busy": "2020-12-02T15:02:54.389366Z",
     "iopub.status.idle": "2020-12-02T15:03:04.704378Z",
     "shell.execute_reply": "2020-12-02T15:03:04.703340Z"
    },
    "papermill": {
     "duration": 10.423019,
     "end_time": "2020-12-02T15:03:04.704512",
     "exception": false,
     "start_time": "2020-12-02T15:02:54.281493",
     "status": "completed"
    },
    "tags": []
   },
   "outputs": [],
   "source": [
    "test_dataset = SimpsonsDataset(test_files, mode=\"test\")\n",
    "test_loader = DataLoader(test_dataset, shuffle=False, batch_size=64)\n",
    "probs = predict(model_resnet, test_loader)\n",
    "\n",
    "\n",
    "preds = label_encoder.inverse_transform(np.argmax(probs, axis=1))\n",
    "test_filenames = [path.name for path in test_dataset.files]"
   ]
  },
  {
   "cell_type": "markdown",
   "metadata": {
    "papermill": {
     "duration": 0.101136,
     "end_time": "2020-12-02T15:03:04.907726",
     "exception": false,
     "start_time": "2020-12-02T15:03:04.806590",
     "status": "completed"
    },
    "tags": []
   },
   "source": [
    "Делаем сабмит на kaggle"
   ]
  },
  {
   "cell_type": "code",
   "execution_count": 61,
   "metadata": {
    "execution": {
     "iopub.execute_input": "2020-12-02T15:03:05.129670Z",
     "iopub.status.busy": "2020-12-02T15:03:05.128670Z",
     "iopub.status.idle": "2020-12-02T15:03:05.133932Z",
     "shell.execute_reply": "2020-12-02T15:03:05.133373Z"
    },
    "papermill": {
     "duration": 0.12474,
     "end_time": "2020-12-02T15:03:05.134038",
     "exception": false,
     "start_time": "2020-12-02T15:03:05.009298",
     "status": "completed"
    },
    "tags": []
   },
   "outputs": [
    {
     "data": {
      "text/html": [
       "<div>\n",
       "<style scoped>\n",
       "    .dataframe tbody tr th:only-of-type {\n",
       "        vertical-align: middle;\n",
       "    }\n",
       "\n",
       "    .dataframe tbody tr th {\n",
       "        vertical-align: top;\n",
       "    }\n",
       "\n",
       "    .dataframe thead th {\n",
       "        text-align: right;\n",
       "    }\n",
       "</style>\n",
       "<table border=\"1\" class=\"dataframe\">\n",
       "  <thead>\n",
       "    <tr style=\"text-align: right;\">\n",
       "      <th></th>\n",
       "      <th>Id</th>\n",
       "      <th>Expected</th>\n",
       "    </tr>\n",
       "  </thead>\n",
       "  <tbody>\n",
       "    <tr>\n",
       "      <th>0</th>\n",
       "      <td>img0.jpg</td>\n",
       "      <td>nelson_muntz</td>\n",
       "    </tr>\n",
       "    <tr>\n",
       "      <th>1</th>\n",
       "      <td>img1.jpg</td>\n",
       "      <td>bart_simpson</td>\n",
       "    </tr>\n",
       "    <tr>\n",
       "      <th>2</th>\n",
       "      <td>img10.jpg</td>\n",
       "      <td>ned_flanders</td>\n",
       "    </tr>\n",
       "    <tr>\n",
       "      <th>3</th>\n",
       "      <td>img100.jpg</td>\n",
       "      <td>chief_wiggum</td>\n",
       "    </tr>\n",
       "    <tr>\n",
       "      <th>4</th>\n",
       "      <td>img101.jpg</td>\n",
       "      <td>apu_nahasapeemapetilon</td>\n",
       "    </tr>\n",
       "  </tbody>\n",
       "</table>\n",
       "</div>"
      ],
      "text/plain": [
       "           Id                Expected\n",
       "0    img0.jpg            nelson_muntz\n",
       "1    img1.jpg            bart_simpson\n",
       "2   img10.jpg            ned_flanders\n",
       "3  img100.jpg            chief_wiggum\n",
       "4  img101.jpg  apu_nahasapeemapetilon"
      ]
     },
     "execution_count": 61,
     "metadata": {},
     "output_type": "execute_result"
    }
   ],
   "source": [
    "\n",
    "\n",
    "my_submit = pd.DataFrame({'Id': test_filenames, 'Expected': preds})\n",
    "my_submit.to_csv(\"e:\\\\labels.csv\", index=False)\n",
    "my_submit.head()"
   ]
  },
  {
   "cell_type": "code",
   "execution_count": null,
   "metadata": {},
   "outputs": [],
   "source": [
    "label_encoder = pickle.load(open(\"label_encoder.pkl\", 'rb'))\n",
    "\n",
    "test_dataset = SimpsonsDataset(test_files, mode=\"test\")\n",
    "test_loader = DataLoader(test_dataset, shuffle=False, batch_size=64)\n",
    "probs = predict(model_resnet, test_loader)\n",
    "\n",
    "\n",
    "preds = label_encoder.inverse_transform(np.argmax(probs, axis=1))\n",
    "test_filenames = [path.name for path in test_dataset.files]\n",
    "\n",
    "\n",
    "\n",
    "my_submit = pd.DataFrame({'Id': test_filenames, 'Expected': preds})\n",
    "my_submit.to_csv(\"e:\\\\labels.csv\", index=False)\n",
    "my_submit.head()"
   ]
  },
  {
   "cell_type": "code",
   "execution_count": null,
   "metadata": {},
   "outputs": [],
   "source": []
  }
 ],
 "metadata": {
  "kernelspec": {
   "display_name": "Python 3",
   "language": "python",
   "name": "python3"
  },
  "language_info": {
   "codemirror_mode": {
    "name": "ipython",
    "version": 3
   },
   "file_extension": ".py",
   "mimetype": "text/x-python",
   "name": "python",
   "nbconvert_exporter": "python",
   "pygments_lexer": "ipython3",
   "version": "3.7.6"
  },
  "papermill": {
   "duration": 1383.317562,
   "end_time": "2020-12-02T15:03:06.665022",
   "environment_variables": {},
   "exception": null,
   "input_path": "__notebook__.ipynb",
   "output_path": "__notebook__.ipynb",
   "parameters": {},
   "start_time": "2020-12-02T14:40:03.347460",
   "version": "2.1.0"
  },
  "widgets": {
   "application/vnd.jupyter.widget-state+json": {
    "state": {
     "00bea5b261284a63b6e75f8c60bd2be7": {
      "model_module": "@jupyter-widgets/base",
      "model_module_version": "1.2.0",
      "model_name": "LayoutModel",
      "state": {
       "_model_module": "@jupyter-widgets/base",
       "_model_module_version": "1.2.0",
       "_model_name": "LayoutModel",
       "_view_count": null,
       "_view_module": "@jupyter-widgets/base",
       "_view_module_version": "1.2.0",
       "_view_name": "LayoutView",
       "align_content": null,
       "align_items": null,
       "align_self": null,
       "border": null,
       "bottom": null,
       "display": null,
       "flex": null,
       "flex_flow": null,
       "grid_area": null,
       "grid_auto_columns": null,
       "grid_auto_flow": null,
       "grid_auto_rows": null,
       "grid_column": null,
       "grid_gap": null,
       "grid_row": null,
       "grid_template_areas": null,
       "grid_template_columns": null,
       "grid_template_rows": null,
       "height": null,
       "justify_content": null,
       "justify_items": null,
       "left": null,
       "margin": null,
       "max_height": null,
       "max_width": null,
       "min_height": null,
       "min_width": null,
       "object_fit": null,
       "object_position": null,
       "order": null,
       "overflow": null,
       "overflow_x": null,
       "overflow_y": null,
       "padding": null,
       "right": null,
       "top": null,
       "visibility": null,
       "width": null
      }
     },
     "1cf0cd5c4dc14ce390b5b67a7c4d2a04": {
      "model_module": "@jupyter-widgets/controls",
      "model_module_version": "1.5.0",
      "model_name": "HBoxModel",
      "state": {
       "_dom_classes": [],
       "_model_module": "@jupyter-widgets/controls",
       "_model_module_version": "1.5.0",
       "_model_name": "HBoxModel",
       "_view_count": null,
       "_view_module": "@jupyter-widgets/controls",
       "_view_module_version": "1.5.0",
       "_view_name": "HBoxView",
       "box_style": "",
       "children": [
        "IPY_MODEL_6d07c90265fb403f823d13e142db6ec8",
        "IPY_MODEL_f09bd568852b4e4eb4179fa574ac98b1"
       ],
       "layout": "IPY_MODEL_3c4343a9ab984b6c868eeec341c5e13a"
      }
     },
     "3c4343a9ab984b6c868eeec341c5e13a": {
      "model_module": "@jupyter-widgets/base",
      "model_module_version": "1.2.0",
      "model_name": "LayoutModel",
      "state": {
       "_model_module": "@jupyter-widgets/base",
       "_model_module_version": "1.2.0",
       "_model_name": "LayoutModel",
       "_view_count": null,
       "_view_module": "@jupyter-widgets/base",
       "_view_module_version": "1.2.0",
       "_view_name": "LayoutView",
       "align_content": null,
       "align_items": null,
       "align_self": null,
       "border": null,
       "bottom": null,
       "display": null,
       "flex": null,
       "flex_flow": null,
       "grid_area": null,
       "grid_auto_columns": null,
       "grid_auto_flow": null,
       "grid_auto_rows": null,
       "grid_column": null,
       "grid_gap": null,
       "grid_row": null,
       "grid_template_areas": null,
       "grid_template_columns": null,
       "grid_template_rows": null,
       "height": null,
       "justify_content": null,
       "justify_items": null,
       "left": null,
       "margin": null,
       "max_height": null,
       "max_width": null,
       "min_height": null,
       "min_width": null,
       "object_fit": null,
       "object_position": null,
       "order": null,
       "overflow": null,
       "overflow_x": null,
       "overflow_y": null,
       "padding": null,
       "right": null,
       "top": null,
       "visibility": null,
       "width": null
      }
     },
     "6d07c90265fb403f823d13e142db6ec8": {
      "model_module": "@jupyter-widgets/controls",
      "model_module_version": "1.5.0",
      "model_name": "FloatProgressModel",
      "state": {
       "_dom_classes": [],
       "_model_module": "@jupyter-widgets/controls",
       "_model_module_version": "1.5.0",
       "_model_name": "FloatProgressModel",
       "_view_count": null,
       "_view_module": "@jupyter-widgets/controls",
       "_view_module_version": "1.5.0",
       "_view_name": "ProgressView",
       "bar_style": "success",
       "description": "100%",
       "description_tooltip": null,
       "layout": "IPY_MODEL_00bea5b261284a63b6e75f8c60bd2be7",
       "max": 553507836,
       "min": 0,
       "orientation": "horizontal",
       "style": "IPY_MODEL_8553b763f27842cb8e0a26b7b20522c6",
       "value": 553507836
      }
     },
     "76f13dc036fa46beae259ce29d16e8a4": {
      "model_module": "@jupyter-widgets/controls",
      "model_module_version": "1.5.0",
      "model_name": "DescriptionStyleModel",
      "state": {
       "_model_module": "@jupyter-widgets/controls",
       "_model_module_version": "1.5.0",
       "_model_name": "DescriptionStyleModel",
       "_view_count": null,
       "_view_module": "@jupyter-widgets/base",
       "_view_module_version": "1.2.0",
       "_view_name": "StyleView",
       "description_width": ""
      }
     },
     "8553b763f27842cb8e0a26b7b20522c6": {
      "model_module": "@jupyter-widgets/controls",
      "model_module_version": "1.5.0",
      "model_name": "ProgressStyleModel",
      "state": {
       "_model_module": "@jupyter-widgets/controls",
       "_model_module_version": "1.5.0",
       "_model_name": "ProgressStyleModel",
       "_view_count": null,
       "_view_module": "@jupyter-widgets/base",
       "_view_module_version": "1.2.0",
       "_view_name": "StyleView",
       "bar_color": null,
       "description_width": "initial"
      }
     },
     "c5bbac9ee4c1485e9c1755027d25f281": {
      "model_module": "@jupyter-widgets/base",
      "model_module_version": "1.2.0",
      "model_name": "LayoutModel",
      "state": {
       "_model_module": "@jupyter-widgets/base",
       "_model_module_version": "1.2.0",
       "_model_name": "LayoutModel",
       "_view_count": null,
       "_view_module": "@jupyter-widgets/base",
       "_view_module_version": "1.2.0",
       "_view_name": "LayoutView",
       "align_content": null,
       "align_items": null,
       "align_self": null,
       "border": null,
       "bottom": null,
       "display": null,
       "flex": null,
       "flex_flow": null,
       "grid_area": null,
       "grid_auto_columns": null,
       "grid_auto_flow": null,
       "grid_auto_rows": null,
       "grid_column": null,
       "grid_gap": null,
       "grid_row": null,
       "grid_template_areas": null,
       "grid_template_columns": null,
       "grid_template_rows": null,
       "height": null,
       "justify_content": null,
       "justify_items": null,
       "left": null,
       "margin": null,
       "max_height": null,
       "max_width": null,
       "min_height": null,
       "min_width": null,
       "object_fit": null,
       "object_position": null,
       "order": null,
       "overflow": null,
       "overflow_x": null,
       "overflow_y": null,
       "padding": null,
       "right": null,
       "top": null,
       "visibility": null,
       "width": null
      }
     },
     "f09bd568852b4e4eb4179fa574ac98b1": {
      "model_module": "@jupyter-widgets/controls",
      "model_module_version": "1.5.0",
      "model_name": "HTMLModel",
      "state": {
       "_dom_classes": [],
       "_model_module": "@jupyter-widgets/controls",
       "_model_module_version": "1.5.0",
       "_model_name": "HTMLModel",
       "_view_count": null,
       "_view_module": "@jupyter-widgets/controls",
       "_view_module_version": "1.5.0",
       "_view_name": "HTMLView",
       "description": "",
       "description_tooltip": null,
       "layout": "IPY_MODEL_c5bbac9ee4c1485e9c1755027d25f281",
       "placeholder": "​",
       "style": "IPY_MODEL_76f13dc036fa46beae259ce29d16e8a4",
       "value": " 528M/528M [00:35&lt;00:00, 15.5MB/s]"
      }
     }
    },
    "version_major": 2,
    "version_minor": 0
   }
  }
 },
 "nbformat": 4,
 "nbformat_minor": 4
}
